{
  "cells": [
    {
      "cell_type": "markdown",
      "metadata": {
        "id": "view-in-github",
        "colab_type": "text"
      },
      "source": [
        "<a href=\"https://colab.research.google.com/github/mithunboraiah007/project1/blob/main/stock_price_prediction.ipynb\" target=\"_parent\"><img src=\"https://colab.research.google.com/assets/colab-badge.svg\" alt=\"Open In Colab\"/></a>"
      ]
    },
    {
      "cell_type": "code",
      "execution_count": 135,
      "id": "d864bb63-f9d0-4283-bdb9-ecad6ea0dbd3",
      "metadata": {
        "id": "d864bb63-f9d0-4283-bdb9-ecad6ea0dbd3"
      },
      "outputs": [],
      "source": [
        "\n",
        "import yfinance as yf\n",
        "import pandas as pd\n",
        "import numpy as np"
      ]
    },
    {
      "cell_type": "code",
      "execution_count": 136,
      "id": "ba6f354d-89f8-43f2-b143-3bb005a66570",
      "metadata": {
        "colab": {
          "base_uri": "https://localhost:8080/"
        },
        "id": "ba6f354d-89f8-43f2-b143-3bb005a66570",
        "outputId": "6d549977-01e2-44b9-937f-2500530c209b"
      },
      "outputs": [
        {
          "name": "stdout",
          "output_type": "stream",
          "text": [
            "Enter stock symbol (e.g., GAIL.NS): GAIL.NS\n",
            "Enter start date (YYYY-MM-DD): 2024-01-01\n",
            "Enter end date (YYYY-MM-DD): 2024-05-01\n"
          ]
        }
      ],
      "source": [
        "ticker_symbol = input(\"Enter stock symbol (e.g., GAIL.NS): \")\n",
        "start_date = input(\"Enter start date (YYYY-MM-DD): \")\n",
        "end_date = input(\"Enter end date (YYYY-MM-DD): \")"
      ]
    },
    {
      "cell_type": "code",
      "execution_count": 137,
      "id": "87d405d9-43a5-4efd-9713-ca2e7009d534",
      "metadata": {
        "colab": {
          "base_uri": "https://localhost:8080/"
        },
        "id": "87d405d9-43a5-4efd-9713-ca2e7009d534",
        "outputId": "fb339737-0985-4ac3-8982-7ce16997d533"
      },
      "outputs": [
        {
          "output_type": "stream",
          "name": "stderr",
          "text": [
            "\r[*********************100%%**********************]  1 of 1 completed\n"
          ]
        }
      ],
      "source": [
        "stock_data = yf.download(ticker_symbol, start=start_date, end=end_date)"
      ]
    },
    {
      "cell_type": "code",
      "execution_count": 138,
      "id": "0c39f710-6cb8-4937-a41e-bf0d8f1f69dd",
      "metadata": {
        "colab": {
          "base_uri": "https://localhost:8080/",
          "height": 455
        },
        "id": "0c39f710-6cb8-4937-a41e-bf0d8f1f69dd",
        "outputId": "d16ac173-734c-4476-85f8-0455ab653cce"
      },
      "outputs": [
        {
          "output_type": "execute_result",
          "data": {
            "text/plain": [
              "                  Open        High         Low       Close   Adj Close  \\\n",
              "Date                                                                     \n",
              "2024-01-01  163.699997  169.350006  162.649994  166.199997  161.166412   \n",
              "2024-01-02  167.100006  167.600006  158.100006  164.050003  159.081528   \n",
              "2024-01-03  164.000000  164.399994  160.750000  162.149994  157.239075   \n",
              "2024-01-04  162.300003  165.699997  162.250000  163.149994  158.208786   \n",
              "2024-01-05  166.000000  167.100006  161.899994  163.649994  158.693634   \n",
              "...                ...         ...         ...         ...         ...   \n",
              "2024-04-24  200.899994  208.800003  199.199997  207.399994  207.399994   \n",
              "2024-04-25  207.300003  209.000000  206.100006  208.000000  208.000000   \n",
              "2024-04-26  208.899994  211.699997  207.300003  208.050003  208.050003   \n",
              "2024-04-29  208.899994  211.100006  207.550003  209.550003  209.550003   \n",
              "2024-04-30  209.949997  212.250000  208.649994  209.100006  209.100006   \n",
              "\n",
              "              Volume  \n",
              "Date                  \n",
              "2024-01-01  40952729  \n",
              "2024-01-02  40801901  \n",
              "2024-01-03  22338899  \n",
              "2024-01-04  16795469  \n",
              "2024-01-05  36182162  \n",
              "...              ...  \n",
              "2024-04-24  31299709  \n",
              "2024-04-25  12365830  \n",
              "2024-04-26  13324638  \n",
              "2024-04-29  10194865  \n",
              "2024-04-30  17217978  \n",
              "\n",
              "[80 rows x 6 columns]"
            ],
            "text/html": [
              "\n",
              "  <div id=\"df-77032fdb-9677-4af1-a4de-46886777592e\" class=\"colab-df-container\">\n",
              "    <div>\n",
              "<style scoped>\n",
              "    .dataframe tbody tr th:only-of-type {\n",
              "        vertical-align: middle;\n",
              "    }\n",
              "\n",
              "    .dataframe tbody tr th {\n",
              "        vertical-align: top;\n",
              "    }\n",
              "\n",
              "    .dataframe thead th {\n",
              "        text-align: right;\n",
              "    }\n",
              "</style>\n",
              "<table border=\"1\" class=\"dataframe\">\n",
              "  <thead>\n",
              "    <tr style=\"text-align: right;\">\n",
              "      <th></th>\n",
              "      <th>Open</th>\n",
              "      <th>High</th>\n",
              "      <th>Low</th>\n",
              "      <th>Close</th>\n",
              "      <th>Adj Close</th>\n",
              "      <th>Volume</th>\n",
              "    </tr>\n",
              "    <tr>\n",
              "      <th>Date</th>\n",
              "      <th></th>\n",
              "      <th></th>\n",
              "      <th></th>\n",
              "      <th></th>\n",
              "      <th></th>\n",
              "      <th></th>\n",
              "    </tr>\n",
              "  </thead>\n",
              "  <tbody>\n",
              "    <tr>\n",
              "      <th>2024-01-01</th>\n",
              "      <td>163.699997</td>\n",
              "      <td>169.350006</td>\n",
              "      <td>162.649994</td>\n",
              "      <td>166.199997</td>\n",
              "      <td>161.166412</td>\n",
              "      <td>40952729</td>\n",
              "    </tr>\n",
              "    <tr>\n",
              "      <th>2024-01-02</th>\n",
              "      <td>167.100006</td>\n",
              "      <td>167.600006</td>\n",
              "      <td>158.100006</td>\n",
              "      <td>164.050003</td>\n",
              "      <td>159.081528</td>\n",
              "      <td>40801901</td>\n",
              "    </tr>\n",
              "    <tr>\n",
              "      <th>2024-01-03</th>\n",
              "      <td>164.000000</td>\n",
              "      <td>164.399994</td>\n",
              "      <td>160.750000</td>\n",
              "      <td>162.149994</td>\n",
              "      <td>157.239075</td>\n",
              "      <td>22338899</td>\n",
              "    </tr>\n",
              "    <tr>\n",
              "      <th>2024-01-04</th>\n",
              "      <td>162.300003</td>\n",
              "      <td>165.699997</td>\n",
              "      <td>162.250000</td>\n",
              "      <td>163.149994</td>\n",
              "      <td>158.208786</td>\n",
              "      <td>16795469</td>\n",
              "    </tr>\n",
              "    <tr>\n",
              "      <th>2024-01-05</th>\n",
              "      <td>166.000000</td>\n",
              "      <td>167.100006</td>\n",
              "      <td>161.899994</td>\n",
              "      <td>163.649994</td>\n",
              "      <td>158.693634</td>\n",
              "      <td>36182162</td>\n",
              "    </tr>\n",
              "    <tr>\n",
              "      <th>...</th>\n",
              "      <td>...</td>\n",
              "      <td>...</td>\n",
              "      <td>...</td>\n",
              "      <td>...</td>\n",
              "      <td>...</td>\n",
              "      <td>...</td>\n",
              "    </tr>\n",
              "    <tr>\n",
              "      <th>2024-04-24</th>\n",
              "      <td>200.899994</td>\n",
              "      <td>208.800003</td>\n",
              "      <td>199.199997</td>\n",
              "      <td>207.399994</td>\n",
              "      <td>207.399994</td>\n",
              "      <td>31299709</td>\n",
              "    </tr>\n",
              "    <tr>\n",
              "      <th>2024-04-25</th>\n",
              "      <td>207.300003</td>\n",
              "      <td>209.000000</td>\n",
              "      <td>206.100006</td>\n",
              "      <td>208.000000</td>\n",
              "      <td>208.000000</td>\n",
              "      <td>12365830</td>\n",
              "    </tr>\n",
              "    <tr>\n",
              "      <th>2024-04-26</th>\n",
              "      <td>208.899994</td>\n",
              "      <td>211.699997</td>\n",
              "      <td>207.300003</td>\n",
              "      <td>208.050003</td>\n",
              "      <td>208.050003</td>\n",
              "      <td>13324638</td>\n",
              "    </tr>\n",
              "    <tr>\n",
              "      <th>2024-04-29</th>\n",
              "      <td>208.899994</td>\n",
              "      <td>211.100006</td>\n",
              "      <td>207.550003</td>\n",
              "      <td>209.550003</td>\n",
              "      <td>209.550003</td>\n",
              "      <td>10194865</td>\n",
              "    </tr>\n",
              "    <tr>\n",
              "      <th>2024-04-30</th>\n",
              "      <td>209.949997</td>\n",
              "      <td>212.250000</td>\n",
              "      <td>208.649994</td>\n",
              "      <td>209.100006</td>\n",
              "      <td>209.100006</td>\n",
              "      <td>17217978</td>\n",
              "    </tr>\n",
              "  </tbody>\n",
              "</table>\n",
              "<p>80 rows × 6 columns</p>\n",
              "</div>\n",
              "    <div class=\"colab-df-buttons\">\n",
              "\n",
              "  <div class=\"colab-df-container\">\n",
              "    <button class=\"colab-df-convert\" onclick=\"convertToInteractive('df-77032fdb-9677-4af1-a4de-46886777592e')\"\n",
              "            title=\"Convert this dataframe to an interactive table.\"\n",
              "            style=\"display:none;\">\n",
              "\n",
              "  <svg xmlns=\"http://www.w3.org/2000/svg\" height=\"24px\" viewBox=\"0 -960 960 960\">\n",
              "    <path d=\"M120-120v-720h720v720H120Zm60-500h600v-160H180v160Zm220 220h160v-160H400v160Zm0 220h160v-160H400v160ZM180-400h160v-160H180v160Zm440 0h160v-160H620v160ZM180-180h160v-160H180v160Zm440 0h160v-160H620v160Z\"/>\n",
              "  </svg>\n",
              "    </button>\n",
              "\n",
              "  <style>\n",
              "    .colab-df-container {\n",
              "      display:flex;\n",
              "      gap: 12px;\n",
              "    }\n",
              "\n",
              "    .colab-df-convert {\n",
              "      background-color: #E8F0FE;\n",
              "      border: none;\n",
              "      border-radius: 50%;\n",
              "      cursor: pointer;\n",
              "      display: none;\n",
              "      fill: #1967D2;\n",
              "      height: 32px;\n",
              "      padding: 0 0 0 0;\n",
              "      width: 32px;\n",
              "    }\n",
              "\n",
              "    .colab-df-convert:hover {\n",
              "      background-color: #E2EBFA;\n",
              "      box-shadow: 0px 1px 2px rgba(60, 64, 67, 0.3), 0px 1px 3px 1px rgba(60, 64, 67, 0.15);\n",
              "      fill: #174EA6;\n",
              "    }\n",
              "\n",
              "    .colab-df-buttons div {\n",
              "      margin-bottom: 4px;\n",
              "    }\n",
              "\n",
              "    [theme=dark] .colab-df-convert {\n",
              "      background-color: #3B4455;\n",
              "      fill: #D2E3FC;\n",
              "    }\n",
              "\n",
              "    [theme=dark] .colab-df-convert:hover {\n",
              "      background-color: #434B5C;\n",
              "      box-shadow: 0px 1px 3px 1px rgba(0, 0, 0, 0.15);\n",
              "      filter: drop-shadow(0px 1px 2px rgba(0, 0, 0, 0.3));\n",
              "      fill: #FFFFFF;\n",
              "    }\n",
              "  </style>\n",
              "\n",
              "    <script>\n",
              "      const buttonEl =\n",
              "        document.querySelector('#df-77032fdb-9677-4af1-a4de-46886777592e button.colab-df-convert');\n",
              "      buttonEl.style.display =\n",
              "        google.colab.kernel.accessAllowed ? 'block' : 'none';\n",
              "\n",
              "      async function convertToInteractive(key) {\n",
              "        const element = document.querySelector('#df-77032fdb-9677-4af1-a4de-46886777592e');\n",
              "        const dataTable =\n",
              "          await google.colab.kernel.invokeFunction('convertToInteractive',\n",
              "                                                    [key], {});\n",
              "        if (!dataTable) return;\n",
              "\n",
              "        const docLinkHtml = 'Like what you see? Visit the ' +\n",
              "          '<a target=\"_blank\" href=https://colab.research.google.com/notebooks/data_table.ipynb>data table notebook</a>'\n",
              "          + ' to learn more about interactive tables.';\n",
              "        element.innerHTML = '';\n",
              "        dataTable['output_type'] = 'display_data';\n",
              "        await google.colab.output.renderOutput(dataTable, element);\n",
              "        const docLink = document.createElement('div');\n",
              "        docLink.innerHTML = docLinkHtml;\n",
              "        element.appendChild(docLink);\n",
              "      }\n",
              "    </script>\n",
              "  </div>\n",
              "\n",
              "\n",
              "<div id=\"df-2e286d9b-f1f1-4441-b2a5-cce59cf2e525\">\n",
              "  <button class=\"colab-df-quickchart\" onclick=\"quickchart('df-2e286d9b-f1f1-4441-b2a5-cce59cf2e525')\"\n",
              "            title=\"Suggest charts\"\n",
              "            style=\"display:none;\">\n",
              "\n",
              "<svg xmlns=\"http://www.w3.org/2000/svg\" height=\"24px\"viewBox=\"0 0 24 24\"\n",
              "     width=\"24px\">\n",
              "    <g>\n",
              "        <path d=\"M19 3H5c-1.1 0-2 .9-2 2v14c0 1.1.9 2 2 2h14c1.1 0 2-.9 2-2V5c0-1.1-.9-2-2-2zM9 17H7v-7h2v7zm4 0h-2V7h2v10zm4 0h-2v-4h2v4z\"/>\n",
              "    </g>\n",
              "</svg>\n",
              "  </button>\n",
              "\n",
              "<style>\n",
              "  .colab-df-quickchart {\n",
              "      --bg-color: #E8F0FE;\n",
              "      --fill-color: #1967D2;\n",
              "      --hover-bg-color: #E2EBFA;\n",
              "      --hover-fill-color: #174EA6;\n",
              "      --disabled-fill-color: #AAA;\n",
              "      --disabled-bg-color: #DDD;\n",
              "  }\n",
              "\n",
              "  [theme=dark] .colab-df-quickchart {\n",
              "      --bg-color: #3B4455;\n",
              "      --fill-color: #D2E3FC;\n",
              "      --hover-bg-color: #434B5C;\n",
              "      --hover-fill-color: #FFFFFF;\n",
              "      --disabled-bg-color: #3B4455;\n",
              "      --disabled-fill-color: #666;\n",
              "  }\n",
              "\n",
              "  .colab-df-quickchart {\n",
              "    background-color: var(--bg-color);\n",
              "    border: none;\n",
              "    border-radius: 50%;\n",
              "    cursor: pointer;\n",
              "    display: none;\n",
              "    fill: var(--fill-color);\n",
              "    height: 32px;\n",
              "    padding: 0;\n",
              "    width: 32px;\n",
              "  }\n",
              "\n",
              "  .colab-df-quickchart:hover {\n",
              "    background-color: var(--hover-bg-color);\n",
              "    box-shadow: 0 1px 2px rgba(60, 64, 67, 0.3), 0 1px 3px 1px rgba(60, 64, 67, 0.15);\n",
              "    fill: var(--button-hover-fill-color);\n",
              "  }\n",
              "\n",
              "  .colab-df-quickchart-complete:disabled,\n",
              "  .colab-df-quickchart-complete:disabled:hover {\n",
              "    background-color: var(--disabled-bg-color);\n",
              "    fill: var(--disabled-fill-color);\n",
              "    box-shadow: none;\n",
              "  }\n",
              "\n",
              "  .colab-df-spinner {\n",
              "    border: 2px solid var(--fill-color);\n",
              "    border-color: transparent;\n",
              "    border-bottom-color: var(--fill-color);\n",
              "    animation:\n",
              "      spin 1s steps(1) infinite;\n",
              "  }\n",
              "\n",
              "  @keyframes spin {\n",
              "    0% {\n",
              "      border-color: transparent;\n",
              "      border-bottom-color: var(--fill-color);\n",
              "      border-left-color: var(--fill-color);\n",
              "    }\n",
              "    20% {\n",
              "      border-color: transparent;\n",
              "      border-left-color: var(--fill-color);\n",
              "      border-top-color: var(--fill-color);\n",
              "    }\n",
              "    30% {\n",
              "      border-color: transparent;\n",
              "      border-left-color: var(--fill-color);\n",
              "      border-top-color: var(--fill-color);\n",
              "      border-right-color: var(--fill-color);\n",
              "    }\n",
              "    40% {\n",
              "      border-color: transparent;\n",
              "      border-right-color: var(--fill-color);\n",
              "      border-top-color: var(--fill-color);\n",
              "    }\n",
              "    60% {\n",
              "      border-color: transparent;\n",
              "      border-right-color: var(--fill-color);\n",
              "    }\n",
              "    80% {\n",
              "      border-color: transparent;\n",
              "      border-right-color: var(--fill-color);\n",
              "      border-bottom-color: var(--fill-color);\n",
              "    }\n",
              "    90% {\n",
              "      border-color: transparent;\n",
              "      border-bottom-color: var(--fill-color);\n",
              "    }\n",
              "  }\n",
              "</style>\n",
              "\n",
              "  <script>\n",
              "    async function quickchart(key) {\n",
              "      const quickchartButtonEl =\n",
              "        document.querySelector('#' + key + ' button');\n",
              "      quickchartButtonEl.disabled = true;  // To prevent multiple clicks.\n",
              "      quickchartButtonEl.classList.add('colab-df-spinner');\n",
              "      try {\n",
              "        const charts = await google.colab.kernel.invokeFunction(\n",
              "            'suggestCharts', [key], {});\n",
              "      } catch (error) {\n",
              "        console.error('Error during call to suggestCharts:', error);\n",
              "      }\n",
              "      quickchartButtonEl.classList.remove('colab-df-spinner');\n",
              "      quickchartButtonEl.classList.add('colab-df-quickchart-complete');\n",
              "    }\n",
              "    (() => {\n",
              "      let quickchartButtonEl =\n",
              "        document.querySelector('#df-2e286d9b-f1f1-4441-b2a5-cce59cf2e525 button');\n",
              "      quickchartButtonEl.style.display =\n",
              "        google.colab.kernel.accessAllowed ? 'block' : 'none';\n",
              "    })();\n",
              "  </script>\n",
              "</div>\n",
              "\n",
              "  <div id=\"id_435c6f6a-76a6-4723-ae45-1d683d1db065\">\n",
              "    <style>\n",
              "      .colab-df-generate {\n",
              "        background-color: #E8F0FE;\n",
              "        border: none;\n",
              "        border-radius: 50%;\n",
              "        cursor: pointer;\n",
              "        display: none;\n",
              "        fill: #1967D2;\n",
              "        height: 32px;\n",
              "        padding: 0 0 0 0;\n",
              "        width: 32px;\n",
              "      }\n",
              "\n",
              "      .colab-df-generate:hover {\n",
              "        background-color: #E2EBFA;\n",
              "        box-shadow: 0px 1px 2px rgba(60, 64, 67, 0.3), 0px 1px 3px 1px rgba(60, 64, 67, 0.15);\n",
              "        fill: #174EA6;\n",
              "      }\n",
              "\n",
              "      [theme=dark] .colab-df-generate {\n",
              "        background-color: #3B4455;\n",
              "        fill: #D2E3FC;\n",
              "      }\n",
              "\n",
              "      [theme=dark] .colab-df-generate:hover {\n",
              "        background-color: #434B5C;\n",
              "        box-shadow: 0px 1px 3px 1px rgba(0, 0, 0, 0.15);\n",
              "        filter: drop-shadow(0px 1px 2px rgba(0, 0, 0, 0.3));\n",
              "        fill: #FFFFFF;\n",
              "      }\n",
              "    </style>\n",
              "    <button class=\"colab-df-generate\" onclick=\"generateWithVariable('stock_data')\"\n",
              "            title=\"Generate code using this dataframe.\"\n",
              "            style=\"display:none;\">\n",
              "\n",
              "  <svg xmlns=\"http://www.w3.org/2000/svg\" height=\"24px\"viewBox=\"0 0 24 24\"\n",
              "       width=\"24px\">\n",
              "    <path d=\"M7,19H8.4L18.45,9,17,7.55,7,17.6ZM5,21V16.75L18.45,3.32a2,2,0,0,1,2.83,0l1.4,1.43a1.91,1.91,0,0,1,.58,1.4,1.91,1.91,0,0,1-.58,1.4L9.25,21ZM18.45,9,17,7.55Zm-12,3A5.31,5.31,0,0,0,4.9,8.1,5.31,5.31,0,0,0,1,6.5,5.31,5.31,0,0,0,4.9,4.9,5.31,5.31,0,0,0,6.5,1,5.31,5.31,0,0,0,8.1,4.9,5.31,5.31,0,0,0,12,6.5,5.46,5.46,0,0,0,6.5,12Z\"/>\n",
              "  </svg>\n",
              "    </button>\n",
              "    <script>\n",
              "      (() => {\n",
              "      const buttonEl =\n",
              "        document.querySelector('#id_435c6f6a-76a6-4723-ae45-1d683d1db065 button.colab-df-generate');\n",
              "      buttonEl.style.display =\n",
              "        google.colab.kernel.accessAllowed ? 'block' : 'none';\n",
              "\n",
              "      buttonEl.onclick = () => {\n",
              "        google.colab.notebook.generateWithVariable('stock_data');\n",
              "      }\n",
              "      })();\n",
              "    </script>\n",
              "  </div>\n",
              "\n",
              "    </div>\n",
              "  </div>\n"
            ],
            "application/vnd.google.colaboratory.intrinsic+json": {
              "type": "dataframe",
              "variable_name": "stock_data",
              "summary": "{\n  \"name\": \"stock_data\",\n  \"rows\": 80,\n  \"fields\": [\n    {\n      \"column\": \"Date\",\n      \"properties\": {\n        \"dtype\": \"date\",\n        \"min\": \"2024-01-01 00:00:00\",\n        \"max\": \"2024-04-30 00:00:00\",\n        \"num_unique_values\": 80,\n        \"samples\": [\n          \"2024-02-14 00:00:00\",\n          \"2024-01-01 00:00:00\",\n          \"2024-02-02 00:00:00\"\n        ],\n        \"semantic_type\": \"\",\n        \"description\": \"\"\n      }\n    },\n    {\n      \"column\": \"Open\",\n      \"properties\": {\n        \"dtype\": \"number\",\n        \"std\": 13.933958491023981,\n        \"min\": 158.6999969482422,\n        \"max\": 209.9499969482422,\n        \"num_unique_values\": 66,\n        \"samples\": [\n          186.1999969482422,\n          200.89999389648438,\n          163.6999969482422\n        ],\n        \"semantic_type\": \"\",\n        \"description\": \"\"\n      }\n    },\n    {\n      \"column\": \"High\",\n      \"properties\": {\n        \"dtype\": \"number\",\n        \"std\": 14.407395670708189,\n        \"min\": 161.10000610351562,\n        \"max\": 213.64999389648438,\n        \"num_unique_values\": 78,\n        \"samples\": [\n          185.4499969482422,\n          169.35000610351562,\n          183.1999969482422\n        ],\n        \"semantic_type\": \"\",\n        \"description\": \"\"\n      }\n    },\n    {\n      \"column\": \"Low\",\n      \"properties\": {\n        \"dtype\": \"number\",\n        \"std\": 14.214531567741941,\n        \"min\": 155.75,\n        \"max\": 208.64999389648438,\n        \"num_unique_values\": 78,\n        \"samples\": [\n          182.14999389648438,\n          162.64999389648438,\n          182.5500030517578\n        ],\n        \"semantic_type\": \"\",\n        \"description\": \"\"\n      }\n    },\n    {\n      \"column\": \"Close\",\n      \"properties\": {\n        \"dtype\": \"number\",\n        \"std\": 14.17676948734986,\n        \"min\": 157.1999969482422,\n        \"max\": 209.5500030517578,\n        \"num_unique_values\": 76,\n        \"samples\": [\n          163.64999389648438,\n          180.3000030517578,\n          165.1999969482422\n        ],\n        \"semantic_type\": \"\",\n        \"description\": \"\"\n      }\n    },\n    {\n      \"column\": \"Adj Close\",\n      \"properties\": {\n        \"dtype\": \"number\",\n        \"std\": 15.820420927889995,\n        \"min\": 152.43899536132812,\n        \"max\": 209.5500030517578,\n        \"num_unique_values\": 75,\n        \"samples\": [\n          158.69363403320312,\n          201.10000610351562,\n          160.1967010498047\n        ],\n        \"semantic_type\": \"\",\n        \"description\": \"\"\n      }\n    },\n    {\n      \"column\": \"Volume\",\n      \"properties\": {\n        \"dtype\": \"number\",\n        \"std\": 12997154,\n        \"min\": 7718111,\n        \"max\": 58433818,\n        \"num_unique_values\": 80,\n        \"samples\": [\n          15132347,\n          40952729,\n          41748419\n        ],\n        \"semantic_type\": \"\",\n        \"description\": \"\"\n      }\n    }\n  ]\n}"
            }
          },
          "metadata": {},
          "execution_count": 138
        }
      ],
      "source": [
        "stock_data"
      ]
    },
    {
      "cell_type": "code",
      "execution_count": 139,
      "id": "b76b652b-99fd-48dd-8138-434281dc728c",
      "metadata": {
        "id": "b76b652b-99fd-48dd-8138-434281dc728c"
      },
      "outputs": [],
      "source": [
        "stock_data['Next_Day_Trend'] = np.where(stock_data['Close'].shift(-1) > stock_data['Close'], 1, 0)"
      ]
    },
    {
      "cell_type": "code",
      "execution_count": 140,
      "id": "bc23252c-636e-4d1c-9600-fbb66196f74b",
      "metadata": {
        "colab": {
          "base_uri": "https://localhost:8080/"
        },
        "id": "bc23252c-636e-4d1c-9600-fbb66196f74b",
        "outputId": "da779702-e897-4140-f701-b976b391d92b"
      },
      "outputs": [
        {
          "output_type": "stream",
          "name": "stderr",
          "text": [
            "<ipython-input-140-b1fbb0e3c815>:1: FutureWarning: DataFrame.fillna with 'method' is deprecated and will raise in a future version. Use obj.ffill() or obj.bfill() instead.\n",
            "  clean_stock_data = stock_data.fillna(method='ffill')\n"
          ]
        }
      ],
      "source": [
        "clean_stock_data = stock_data.fillna(method='ffill')"
      ]
    },
    {
      "cell_type": "code",
      "execution_count": 141,
      "id": "97160e00-b428-44bb-87cb-bcc764664fa3",
      "metadata": {
        "id": "97160e00-b428-44bb-87cb-bcc764664fa3"
      },
      "outputs": [],
      "source": [
        "clean_stock_data['Short_MA'] = clean_stock_data['Close'].rolling(window=10).mean()\n",
        "clean_stock_data['Long_MA'] = clean_stock_data['Close'].rolling(window=50).mean()"
      ]
    },
    {
      "cell_type": "code",
      "execution_count": 142,
      "id": "282deaf3-0a38-489e-b3d6-b37b49ed5370",
      "metadata": {
        "id": "282deaf3-0a38-489e-b3d6-b37b49ed5370"
      },
      "outputs": [],
      "source": [
        "delta = clean_stock_data['Close'].diff()\n",
        "gain = (delta.where(delta > 0, 0)).rolling(window=50).mean()\n",
        "loss = (-delta.where(delta < 0, 0)).rolling(window=50).mean()\n",
        "RS = gain / loss\n",
        "RSI = 100 - (100 / (1 + RS))\n",
        "clean_stock_data['RSI'] = RSI\n",
        "\n",
        "# Drop NaN values generated by rolling calculations\n",
        "clean_stock_data.dropna(inplace=True)"
      ]
    },
    {
      "cell_type": "code",
      "execution_count": 143,
      "id": "f99bad2d-3fd4-41cd-b1f0-9aca3660a48b",
      "metadata": {
        "id": "f99bad2d-3fd4-41cd-b1f0-9aca3660a48b"
      },
      "outputs": [],
      "source": [
        "from sklearn.metrics import mean_squared_error, mean_absolute_error, r2_score\n",
        "from sklearn.preprocessing import MinMaxScaler\n",
        "from sklearn.svm import SVR\n",
        "from sklearn.ensemble import RandomForestRegressor\n",
        "from tensorflow.keras.models import Sequential"
      ]
    },
    {
      "cell_type": "code",
      "execution_count": 144,
      "id": "59671e84-751e-4762-9f5c-7cf1d2e1a70f",
      "metadata": {
        "id": "59671e84-751e-4762-9f5c-7cf1d2e1a70f"
      },
      "outputs": [],
      "source": [
        "clean_stock_data['Next_Day_Trend'] = np.where(clean_stock_data['Close'].shift(-1) > clean_stock_data['Close'], 1, 0)"
      ]
    },
    {
      "cell_type": "code",
      "execution_count": 145,
      "id": "ae3893c4-b41c-4f0e-b62d-ad5122b2d49f",
      "metadata": {
        "id": "ae3893c4-b41c-4f0e-b62d-ad5122b2d49f"
      },
      "outputs": [],
      "source": [
        "features = ['Short_MA', 'Long_MA', 'RSI', 'Next_Day_Trend']\n",
        "target = 'Close'"
      ]
    },
    {
      "cell_type": "code",
      "execution_count": 146,
      "id": "e5fec596-e968-4f40-9db1-480698b40ea7",
      "metadata": {
        "id": "e5fec596-e968-4f40-9db1-480698b40ea7"
      },
      "outputs": [],
      "source": [
        "train_size = int(0.8 * len(clean_stock_data))\n",
        "train_data = clean_stock_data[:train_size]\n",
        "test_data = clean_stock_data[train_size:]\n"
      ]
    },
    {
      "cell_type": "code",
      "execution_count": 147,
      "id": "bcb19881-ae1e-42d1-93ed-cf8d2564ed80",
      "metadata": {
        "colab": {
          "base_uri": "https://localhost:8080/",
          "height": 74
        },
        "id": "bcb19881-ae1e-42d1-93ed-cf8d2564ed80",
        "outputId": "14659fb6-7c40-4b6c-ee51-7e10024f05a0"
      },
      "outputs": [
        {
          "output_type": "execute_result",
          "data": {
            "text/plain": [
              "SVR(kernel='linear')"
            ],
            "text/html": [
              "<style>#sk-container-id-15 {color: black;}#sk-container-id-15 pre{padding: 0;}#sk-container-id-15 div.sk-toggleable {background-color: white;}#sk-container-id-15 label.sk-toggleable__label {cursor: pointer;display: block;width: 100%;margin-bottom: 0;padding: 0.3em;box-sizing: border-box;text-align: center;}#sk-container-id-15 label.sk-toggleable__label-arrow:before {content: \"▸\";float: left;margin-right: 0.25em;color: #696969;}#sk-container-id-15 label.sk-toggleable__label-arrow:hover:before {color: black;}#sk-container-id-15 div.sk-estimator:hover label.sk-toggleable__label-arrow:before {color: black;}#sk-container-id-15 div.sk-toggleable__content {max-height: 0;max-width: 0;overflow: hidden;text-align: left;background-color: #f0f8ff;}#sk-container-id-15 div.sk-toggleable__content pre {margin: 0.2em;color: black;border-radius: 0.25em;background-color: #f0f8ff;}#sk-container-id-15 input.sk-toggleable__control:checked~div.sk-toggleable__content {max-height: 200px;max-width: 100%;overflow: auto;}#sk-container-id-15 input.sk-toggleable__control:checked~label.sk-toggleable__label-arrow:before {content: \"▾\";}#sk-container-id-15 div.sk-estimator input.sk-toggleable__control:checked~label.sk-toggleable__label {background-color: #d4ebff;}#sk-container-id-15 div.sk-label input.sk-toggleable__control:checked~label.sk-toggleable__label {background-color: #d4ebff;}#sk-container-id-15 input.sk-hidden--visually {border: 0;clip: rect(1px 1px 1px 1px);clip: rect(1px, 1px, 1px, 1px);height: 1px;margin: -1px;overflow: hidden;padding: 0;position: absolute;width: 1px;}#sk-container-id-15 div.sk-estimator {font-family: monospace;background-color: #f0f8ff;border: 1px dotted black;border-radius: 0.25em;box-sizing: border-box;margin-bottom: 0.5em;}#sk-container-id-15 div.sk-estimator:hover {background-color: #d4ebff;}#sk-container-id-15 div.sk-parallel-item::after {content: \"\";width: 100%;border-bottom: 1px solid gray;flex-grow: 1;}#sk-container-id-15 div.sk-label:hover label.sk-toggleable__label {background-color: #d4ebff;}#sk-container-id-15 div.sk-serial::before {content: \"\";position: absolute;border-left: 1px solid gray;box-sizing: border-box;top: 0;bottom: 0;left: 50%;z-index: 0;}#sk-container-id-15 div.sk-serial {display: flex;flex-direction: column;align-items: center;background-color: white;padding-right: 0.2em;padding-left: 0.2em;position: relative;}#sk-container-id-15 div.sk-item {position: relative;z-index: 1;}#sk-container-id-15 div.sk-parallel {display: flex;align-items: stretch;justify-content: center;background-color: white;position: relative;}#sk-container-id-15 div.sk-item::before, #sk-container-id-15 div.sk-parallel-item::before {content: \"\";position: absolute;border-left: 1px solid gray;box-sizing: border-box;top: 0;bottom: 0;left: 50%;z-index: -1;}#sk-container-id-15 div.sk-parallel-item {display: flex;flex-direction: column;z-index: 1;position: relative;background-color: white;}#sk-container-id-15 div.sk-parallel-item:first-child::after {align-self: flex-end;width: 50%;}#sk-container-id-15 div.sk-parallel-item:last-child::after {align-self: flex-start;width: 50%;}#sk-container-id-15 div.sk-parallel-item:only-child::after {width: 0;}#sk-container-id-15 div.sk-dashed-wrapped {border: 1px dashed gray;margin: 0 0.4em 0.5em 0.4em;box-sizing: border-box;padding-bottom: 0.4em;background-color: white;}#sk-container-id-15 div.sk-label label {font-family: monospace;font-weight: bold;display: inline-block;line-height: 1.2em;}#sk-container-id-15 div.sk-label-container {text-align: center;}#sk-container-id-15 div.sk-container {/* jupyter's `normalize.less` sets `[hidden] { display: none; }` but bootstrap.min.css set `[hidden] { display: none !important; }` so we also need the `!important` here to be able to override the default hidden behavior on the sphinx rendered scikit-learn.org. See: https://github.com/scikit-learn/scikit-learn/issues/21755 */display: inline-block !important;position: relative;}#sk-container-id-15 div.sk-text-repr-fallback {display: none;}</style><div id=\"sk-container-id-15\" class=\"sk-top-container\"><div class=\"sk-text-repr-fallback\"><pre>SVR(kernel=&#x27;linear&#x27;)</pre><b>In a Jupyter environment, please rerun this cell to show the HTML representation or trust the notebook. <br />On GitHub, the HTML representation is unable to render, please try loading this page with nbviewer.org.</b></div><div class=\"sk-container\" hidden><div class=\"sk-item\"><div class=\"sk-estimator sk-toggleable\"><input class=\"sk-toggleable__control sk-hidden--visually\" id=\"sk-estimator-id-15\" type=\"checkbox\" checked><label for=\"sk-estimator-id-15\" class=\"sk-toggleable__label sk-toggleable__label-arrow\">SVR</label><div class=\"sk-toggleable__content\"><pre>SVR(kernel=&#x27;linear&#x27;)</pre></div></div></div></div></div>"
            ]
          },
          "metadata": {},
          "execution_count": 147
        }
      ],
      "source": [
        "# Training using Support Vector Machine (SVR)\n",
        "model_svr = SVR(kernel='linear')\n",
        "model_svr.fit(train_data[features], train_data[target])"
      ]
    },
    {
      "cell_type": "code",
      "execution_count": 148,
      "id": "b59b2f34-944c-4883-9f77-8f1fadce34d4",
      "metadata": {
        "colab": {
          "base_uri": "https://localhost:8080/",
          "height": 74
        },
        "id": "b59b2f34-944c-4883-9f77-8f1fadce34d4",
        "outputId": "de7e6a22-0747-45da-d2ea-ef79114d9a56"
      },
      "outputs": [
        {
          "output_type": "execute_result",
          "data": {
            "text/plain": [
              "RandomForestRegressor(random_state=42)"
            ],
            "text/html": [
              "<style>#sk-container-id-16 {color: black;}#sk-container-id-16 pre{padding: 0;}#sk-container-id-16 div.sk-toggleable {background-color: white;}#sk-container-id-16 label.sk-toggleable__label {cursor: pointer;display: block;width: 100%;margin-bottom: 0;padding: 0.3em;box-sizing: border-box;text-align: center;}#sk-container-id-16 label.sk-toggleable__label-arrow:before {content: \"▸\";float: left;margin-right: 0.25em;color: #696969;}#sk-container-id-16 label.sk-toggleable__label-arrow:hover:before {color: black;}#sk-container-id-16 div.sk-estimator:hover label.sk-toggleable__label-arrow:before {color: black;}#sk-container-id-16 div.sk-toggleable__content {max-height: 0;max-width: 0;overflow: hidden;text-align: left;background-color: #f0f8ff;}#sk-container-id-16 div.sk-toggleable__content pre {margin: 0.2em;color: black;border-radius: 0.25em;background-color: #f0f8ff;}#sk-container-id-16 input.sk-toggleable__control:checked~div.sk-toggleable__content {max-height: 200px;max-width: 100%;overflow: auto;}#sk-container-id-16 input.sk-toggleable__control:checked~label.sk-toggleable__label-arrow:before {content: \"▾\";}#sk-container-id-16 div.sk-estimator input.sk-toggleable__control:checked~label.sk-toggleable__label {background-color: #d4ebff;}#sk-container-id-16 div.sk-label input.sk-toggleable__control:checked~label.sk-toggleable__label {background-color: #d4ebff;}#sk-container-id-16 input.sk-hidden--visually {border: 0;clip: rect(1px 1px 1px 1px);clip: rect(1px, 1px, 1px, 1px);height: 1px;margin: -1px;overflow: hidden;padding: 0;position: absolute;width: 1px;}#sk-container-id-16 div.sk-estimator {font-family: monospace;background-color: #f0f8ff;border: 1px dotted black;border-radius: 0.25em;box-sizing: border-box;margin-bottom: 0.5em;}#sk-container-id-16 div.sk-estimator:hover {background-color: #d4ebff;}#sk-container-id-16 div.sk-parallel-item::after {content: \"\";width: 100%;border-bottom: 1px solid gray;flex-grow: 1;}#sk-container-id-16 div.sk-label:hover label.sk-toggleable__label {background-color: #d4ebff;}#sk-container-id-16 div.sk-serial::before {content: \"\";position: absolute;border-left: 1px solid gray;box-sizing: border-box;top: 0;bottom: 0;left: 50%;z-index: 0;}#sk-container-id-16 div.sk-serial {display: flex;flex-direction: column;align-items: center;background-color: white;padding-right: 0.2em;padding-left: 0.2em;position: relative;}#sk-container-id-16 div.sk-item {position: relative;z-index: 1;}#sk-container-id-16 div.sk-parallel {display: flex;align-items: stretch;justify-content: center;background-color: white;position: relative;}#sk-container-id-16 div.sk-item::before, #sk-container-id-16 div.sk-parallel-item::before {content: \"\";position: absolute;border-left: 1px solid gray;box-sizing: border-box;top: 0;bottom: 0;left: 50%;z-index: -1;}#sk-container-id-16 div.sk-parallel-item {display: flex;flex-direction: column;z-index: 1;position: relative;background-color: white;}#sk-container-id-16 div.sk-parallel-item:first-child::after {align-self: flex-end;width: 50%;}#sk-container-id-16 div.sk-parallel-item:last-child::after {align-self: flex-start;width: 50%;}#sk-container-id-16 div.sk-parallel-item:only-child::after {width: 0;}#sk-container-id-16 div.sk-dashed-wrapped {border: 1px dashed gray;margin: 0 0.4em 0.5em 0.4em;box-sizing: border-box;padding-bottom: 0.4em;background-color: white;}#sk-container-id-16 div.sk-label label {font-family: monospace;font-weight: bold;display: inline-block;line-height: 1.2em;}#sk-container-id-16 div.sk-label-container {text-align: center;}#sk-container-id-16 div.sk-container {/* jupyter's `normalize.less` sets `[hidden] { display: none; }` but bootstrap.min.css set `[hidden] { display: none !important; }` so we also need the `!important` here to be able to override the default hidden behavior on the sphinx rendered scikit-learn.org. See: https://github.com/scikit-learn/scikit-learn/issues/21755 */display: inline-block !important;position: relative;}#sk-container-id-16 div.sk-text-repr-fallback {display: none;}</style><div id=\"sk-container-id-16\" class=\"sk-top-container\"><div class=\"sk-text-repr-fallback\"><pre>RandomForestRegressor(random_state=42)</pre><b>In a Jupyter environment, please rerun this cell to show the HTML representation or trust the notebook. <br />On GitHub, the HTML representation is unable to render, please try loading this page with nbviewer.org.</b></div><div class=\"sk-container\" hidden><div class=\"sk-item\"><div class=\"sk-estimator sk-toggleable\"><input class=\"sk-toggleable__control sk-hidden--visually\" id=\"sk-estimator-id-16\" type=\"checkbox\" checked><label for=\"sk-estimator-id-16\" class=\"sk-toggleable__label sk-toggleable__label-arrow\">RandomForestRegressor</label><div class=\"sk-toggleable__content\"><pre>RandomForestRegressor(random_state=42)</pre></div></div></div></div></div>"
            ]
          },
          "metadata": {},
          "execution_count": 148
        }
      ],
      "source": [
        "# Training using Random Forest\n",
        "model_rf = RandomForestRegressor(n_estimators=100, random_state=42)\n",
        "model_rf.fit(train_data[features], train_data[target])"
      ]
    },
    {
      "cell_type": "code",
      "execution_count": 149,
      "id": "1136fa26-41a1-4d89-bd47-cde900f5c192",
      "metadata": {
        "id": "1136fa26-41a1-4d89-bd47-cde900f5c192"
      },
      "outputs": [],
      "source": [
        "# Evaluation\n",
        "def evaluate_model(model, test_features, test_target):\n",
        "    predictions = model.predict(test_features)\n",
        "    mse = mean_squared_error(test_target, predictions)\n",
        "    rmse = np.sqrt(mse)\n",
        "    mae = mean_absolute_error(test_target, predictions)\n",
        "    r2 = r2_score(test_target, predictions)\n",
        "    return mse, rmse, mae, r2\n"
      ]
    },
    {
      "cell_type": "code",
      "execution_count": 150,
      "id": "308cad5f-8b59-4df0-87b8-685d7f640a84",
      "metadata": {
        "colab": {
          "base_uri": "https://localhost:8080/"
        },
        "id": "308cad5f-8b59-4df0-87b8-685d7f640a84",
        "outputId": "b5ae14ab-299c-4956-e638-0c4552567c06"
      },
      "outputs": [
        {
          "output_type": "stream",
          "name": "stdout",
          "text": [
            "Support Vector Machine (SVR):\n",
            "MSE: 42.63748387015782, RMSE: 6.529738422797488, MAE: 4.43138323224522, R-squared: -1.388870524779378\n"
          ]
        }
      ],
      "source": [
        "# Evaluate SVR model\n",
        "mse_svr, rmse_svr, mae_svr, r2_svr = evaluate_model(model_svr, test_data[features], test_data[target])\n",
        "print(\"Support Vector Machine (SVR):\")\n",
        "print(f\"MSE: {mse_svr}, RMSE: {rmse_svr}, MAE: {mae_svr}, R-squared: {r2_svr}\")"
      ]
    },
    {
      "cell_type": "code",
      "execution_count": 151,
      "id": "c1742d18-7e22-4624-b8e7-d9d9dbbd4e9f",
      "metadata": {
        "colab": {
          "base_uri": "https://localhost:8080/"
        },
        "id": "c1742d18-7e22-4624-b8e7-d9d9dbbd4e9f",
        "outputId": "f2a82aab-60a8-49bd-8651-25aa498e2b35"
      },
      "outputs": [
        {
          "output_type": "stream",
          "name": "stdout",
          "text": [
            "Random Forest:\n",
            "MSE: 23.902843168279883, RMSE: 4.889053402068736, MAE: 4.714641723632817, R-squared: -0.3392159273988742\n"
          ]
        }
      ],
      "source": [
        "\n",
        "# Evaluate Random Forest model\n",
        "mse_rf, rmse_rf, mae_rf, r2_rf = evaluate_model(model_rf, test_data[features], test_data[target])\n",
        "print(\"Random Forest:\")\n",
        "print(f\"MSE: {mse_rf}, RMSE: {rmse_rf}, MAE: {mae_rf}, R-squared: {r2_rf}\")"
      ]
    },
    {
      "cell_type": "code",
      "execution_count": 152,
      "id": "c957dba7-dd25-487f-a2c1-f29b13e55150",
      "metadata": {
        "id": "c957dba7-dd25-487f-a2c1-f29b13e55150"
      },
      "outputs": [],
      "source": [
        "model_mse = {\n",
        "    'SVR': mse_svr,\n",
        "    'Random Forest': mse_rf,\n",
        "}"
      ]
    },
    {
      "cell_type": "code",
      "execution_count": 154,
      "id": "a4d5668d-506a-4487-9ec9-2678e7c962b9",
      "metadata": {
        "colab": {
          "base_uri": "https://localhost:8080/"
        },
        "id": "a4d5668d-506a-4487-9ec9-2678e7c962b9",
        "outputId": "b494559a-9e14-43d0-fd5e-0002f4d29b46"
      },
      "outputs": [
        {
          "output_type": "stream",
          "name": "stdout",
          "text": [
            "Predicted future open prices:\n",
            "[203.15250168]\n"
          ]
        }
      ],
      "source": [
        "future_days = 1  # Replace with the desired number of future days\n",
        "\n",
        "last_short_ma = clean_stock_data['Short_MA'].iloc[-1]\n",
        "last_long_ma = clean_stock_data['Long_MA'].iloc[-1]\n",
        "last_rsi = clean_stock_data['RSI'].iloc[-1]\n",
        "last_trend = clean_stock_data['Next_Day_Trend'].iloc[-1]\n",
        "\n",
        "future_short_ma_values = []  # Store future Short_MA values\n",
        "future_long_ma_values = []  # Store future Long_MA values\n",
        "future_rsi_values = []  # Store future RSI values\n",
        "future_trend_values = []  # Store future Next_Day_Trend values\n",
        "\n",
        "for i in range(future_days):\n",
        "    # Example: Suppose you're predicting the next day's trend based on today's values\n",
        "    # Replace this with your own forecasting logic\n",
        "    future_short_ma_values.append(last_short_ma + 1)  # Placeholder logic\n",
        "    future_long_ma_values.append(last_long_ma + 1)  # Placeholder logic\n",
        "    future_rsi_values.append(last_rsi + 1)  # Placeholder logic\n",
        "    future_trend_values.append(last_trend + 1)  # Placeholder logic\n",
        "\n",
        "    # Update the last known values for the next iteration\n",
        "    last_short_ma = future_short_ma_values[-1]\n",
        "    last_long_ma = future_long_ma_values[-1]\n",
        "    last_rsi = future_rsi_values[-1]\n",
        "    last_trend = future_trend_values[-1]\n",
        "\n",
        "# Construct a DataFrame for future features\n",
        "future_features = pd.DataFrame({\n",
        "    'Short_MA': future_short_ma_values,\n",
        "    'Long_MA': future_long_ma_values,\n",
        "    'RSI': future_rsi_values,\n",
        "    'Next_Day_Trend': future_trend_values\n",
        "})\n",
        "\n",
        "# Predict open prices for the next 'n' days using the selected model (e.g., Linear Regression)\n",
        "predicted_open_prices = model_rf.predict(future_features)\n",
        "print(\"Predicted future open prices:\")\n",
        "print(predicted_open_prices)"
      ]
    },
    {
      "cell_type": "code",
      "execution_count": null,
      "id": "9d2f27ac-0080-4719-a8c0-3d3fc431abe9",
      "metadata": {
        "id": "9d2f27ac-0080-4719-a8c0-3d3fc431abe9"
      },
      "outputs": [],
      "source": []
    }
  ],
  "metadata": {
    "kernelspec": {
      "display_name": "Python 3 (ipykernel)",
      "language": "python",
      "name": "python3"
    },
    "language_info": {
      "codemirror_mode": {
        "name": "ipython",
        "version": 3
      },
      "file_extension": ".py",
      "mimetype": "text/x-python",
      "name": "python",
      "nbconvert_exporter": "python",
      "pygments_lexer": "ipython3",
      "version": "3.8.0rc1"
    },
    "colab": {
      "provenance": [],
      "include_colab_link": true
    }
  },
  "nbformat": 4,
  "nbformat_minor": 5
}