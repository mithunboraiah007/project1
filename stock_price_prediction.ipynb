{
  "cells": [
    {
      "cell_type": "markdown",
      "metadata": {
        "id": "view-in-github",
        "colab_type": "text"
      },
      "source": [
        "<a href=\"https://colab.research.google.com/github/mithunboraiah007/project1/blob/main/stock_price_prediction.ipynb\" target=\"_parent\"><img src=\"https://colab.research.google.com/assets/colab-badge.svg\" alt=\"Open In Colab\"/></a>"
      ]
    },
    {
      "cell_type": "code",
      "execution_count": 5,
      "id": "d864bb63-f9d0-4283-bdb9-ecad6ea0dbd3",
      "metadata": {
        "id": "d864bb63-f9d0-4283-bdb9-ecad6ea0dbd3"
      },
      "outputs": [],
      "source": [
        "\n",
        "import yfinance as yf\n",
        "import pandas as pd\n",
        "import numpy as np"
      ]
    },
    {
      "cell_type": "code",
      "execution_count": 6,
      "id": "ba6f354d-89f8-43f2-b143-3bb005a66570",
      "metadata": {
        "colab": {
          "base_uri": "https://localhost:8080/"
        },
        "id": "ba6f354d-89f8-43f2-b143-3bb005a66570",
        "outputId": "fcecfb85-ef0e-43f6-c8e6-71cd780bec6d"
      },
      "outputs": [
        {
          "name": "stdout",
          "output_type": "stream",
          "text": [
            "Enter stock symbol (e.g., GAIL.NS): GAIL.NS\n",
            "Enter start date (YYYY-MM-DD): 2023-01-01\n",
            "Enter end date (YYYY-MM-DD): 2023-05-01\n"
          ]
        }
      ],
      "source": [
        "ticker_symbol = input(\"Enter stock symbol (e.g., GAIL.NS): \")\n",
        "start_date = input(\"Enter start date (YYYY-MM-DD): \")\n",
        "end_date = input(\"Enter end date (YYYY-MM-DD): \")"
      ]
    },
    {
      "cell_type": "code",
      "execution_count": 7,
      "id": "87d405d9-43a5-4efd-9713-ca2e7009d534",
      "metadata": {
        "colab": {
          "base_uri": "https://localhost:8080/"
        },
        "id": "87d405d9-43a5-4efd-9713-ca2e7009d534",
        "outputId": "3ea09e3c-44f5-45c0-eb69-4ae87578a48b"
      },
      "outputs": [
        {
          "output_type": "stream",
          "name": "stderr",
          "text": [
            "\r[*********************100%%**********************]  1 of 1 completed\n"
          ]
        }
      ],
      "source": [
        "stock_data = yf.download(ticker_symbol, start=start_date, end=end_date)"
      ]
    },
    {
      "cell_type": "code",
      "execution_count": 8,
      "id": "0c39f710-6cb8-4937-a41e-bf0d8f1f69dd",
      "metadata": {
        "colab": {
          "base_uri": "https://localhost:8080/",
          "height": 455
        },
        "id": "0c39f710-6cb8-4937-a41e-bf0d8f1f69dd",
        "outputId": "66f6650c-4fc7-4192-ac04-b1431922f30f"
      },
      "outputs": [
        {
          "output_type": "execute_result",
          "data": {
            "text/plain": [
              "                  Open        High         Low       Close   Adj Close  \\\n",
              "Date                                                                     \n",
              "2023-01-02   96.500000   96.800003   95.500000   96.599998   90.261795   \n",
              "2023-01-03   96.699997   97.400002   96.400002   96.800003   90.448677   \n",
              "2023-01-04   97.099998   97.599998   95.150002   95.400002   89.140533   \n",
              "2023-01-05   95.900002   97.500000   95.150002   97.349998   90.962585   \n",
              "2023-01-06   97.699997   98.750000   96.849998   97.250000   90.869148   \n",
              "...                ...         ...         ...         ...         ...   \n",
              "2023-04-24  108.400002  109.599998  108.400002  109.300003  105.989708   \n",
              "2023-04-25  109.849998  110.199997  108.750000  109.199997  105.892731   \n",
              "2023-04-26  109.300003  110.500000  108.599998  110.199997  106.862442   \n",
              "2023-04-27  110.099998  110.099998  108.800003  109.300003  105.989708   \n",
              "2023-04-28  109.099998  109.400002  105.050003  107.300003  104.050285   \n",
              "\n",
              "              Volume  \n",
              "Date                  \n",
              "2023-01-02   9433822  \n",
              "2023-01-03   6053619  \n",
              "2023-01-04   9398653  \n",
              "2023-01-05  12382060  \n",
              "2023-01-06  14032853  \n",
              "...              ...  \n",
              "2023-04-24   6760713  \n",
              "2023-04-25   8661439  \n",
              "2023-04-26   7305825  \n",
              "2023-04-27   8349269  \n",
              "2023-04-28  19307001  \n",
              "\n",
              "[79 rows x 6 columns]"
            ],
            "text/html": [
              "\n",
              "  <div id=\"df-4b31b932-b91f-4205-aff2-c8bfcba038f2\" class=\"colab-df-container\">\n",
              "    <div>\n",
              "<style scoped>\n",
              "    .dataframe tbody tr th:only-of-type {\n",
              "        vertical-align: middle;\n",
              "    }\n",
              "\n",
              "    .dataframe tbody tr th {\n",
              "        vertical-align: top;\n",
              "    }\n",
              "\n",
              "    .dataframe thead th {\n",
              "        text-align: right;\n",
              "    }\n",
              "</style>\n",
              "<table border=\"1\" class=\"dataframe\">\n",
              "  <thead>\n",
              "    <tr style=\"text-align: right;\">\n",
              "      <th></th>\n",
              "      <th>Open</th>\n",
              "      <th>High</th>\n",
              "      <th>Low</th>\n",
              "      <th>Close</th>\n",
              "      <th>Adj Close</th>\n",
              "      <th>Volume</th>\n",
              "    </tr>\n",
              "    <tr>\n",
              "      <th>Date</th>\n",
              "      <th></th>\n",
              "      <th></th>\n",
              "      <th></th>\n",
              "      <th></th>\n",
              "      <th></th>\n",
              "      <th></th>\n",
              "    </tr>\n",
              "  </thead>\n",
              "  <tbody>\n",
              "    <tr>\n",
              "      <th>2023-01-02</th>\n",
              "      <td>96.500000</td>\n",
              "      <td>96.800003</td>\n",
              "      <td>95.500000</td>\n",
              "      <td>96.599998</td>\n",
              "      <td>90.261795</td>\n",
              "      <td>9433822</td>\n",
              "    </tr>\n",
              "    <tr>\n",
              "      <th>2023-01-03</th>\n",
              "      <td>96.699997</td>\n",
              "      <td>97.400002</td>\n",
              "      <td>96.400002</td>\n",
              "      <td>96.800003</td>\n",
              "      <td>90.448677</td>\n",
              "      <td>6053619</td>\n",
              "    </tr>\n",
              "    <tr>\n",
              "      <th>2023-01-04</th>\n",
              "      <td>97.099998</td>\n",
              "      <td>97.599998</td>\n",
              "      <td>95.150002</td>\n",
              "      <td>95.400002</td>\n",
              "      <td>89.140533</td>\n",
              "      <td>9398653</td>\n",
              "    </tr>\n",
              "    <tr>\n",
              "      <th>2023-01-05</th>\n",
              "      <td>95.900002</td>\n",
              "      <td>97.500000</td>\n",
              "      <td>95.150002</td>\n",
              "      <td>97.349998</td>\n",
              "      <td>90.962585</td>\n",
              "      <td>12382060</td>\n",
              "    </tr>\n",
              "    <tr>\n",
              "      <th>2023-01-06</th>\n",
              "      <td>97.699997</td>\n",
              "      <td>98.750000</td>\n",
              "      <td>96.849998</td>\n",
              "      <td>97.250000</td>\n",
              "      <td>90.869148</td>\n",
              "      <td>14032853</td>\n",
              "    </tr>\n",
              "    <tr>\n",
              "      <th>...</th>\n",
              "      <td>...</td>\n",
              "      <td>...</td>\n",
              "      <td>...</td>\n",
              "      <td>...</td>\n",
              "      <td>...</td>\n",
              "      <td>...</td>\n",
              "    </tr>\n",
              "    <tr>\n",
              "      <th>2023-04-24</th>\n",
              "      <td>108.400002</td>\n",
              "      <td>109.599998</td>\n",
              "      <td>108.400002</td>\n",
              "      <td>109.300003</td>\n",
              "      <td>105.989708</td>\n",
              "      <td>6760713</td>\n",
              "    </tr>\n",
              "    <tr>\n",
              "      <th>2023-04-25</th>\n",
              "      <td>109.849998</td>\n",
              "      <td>110.199997</td>\n",
              "      <td>108.750000</td>\n",
              "      <td>109.199997</td>\n",
              "      <td>105.892731</td>\n",
              "      <td>8661439</td>\n",
              "    </tr>\n",
              "    <tr>\n",
              "      <th>2023-04-26</th>\n",
              "      <td>109.300003</td>\n",
              "      <td>110.500000</td>\n",
              "      <td>108.599998</td>\n",
              "      <td>110.199997</td>\n",
              "      <td>106.862442</td>\n",
              "      <td>7305825</td>\n",
              "    </tr>\n",
              "    <tr>\n",
              "      <th>2023-04-27</th>\n",
              "      <td>110.099998</td>\n",
              "      <td>110.099998</td>\n",
              "      <td>108.800003</td>\n",
              "      <td>109.300003</td>\n",
              "      <td>105.989708</td>\n",
              "      <td>8349269</td>\n",
              "    </tr>\n",
              "    <tr>\n",
              "      <th>2023-04-28</th>\n",
              "      <td>109.099998</td>\n",
              "      <td>109.400002</td>\n",
              "      <td>105.050003</td>\n",
              "      <td>107.300003</td>\n",
              "      <td>104.050285</td>\n",
              "      <td>19307001</td>\n",
              "    </tr>\n",
              "  </tbody>\n",
              "</table>\n",
              "<p>79 rows × 6 columns</p>\n",
              "</div>\n",
              "    <div class=\"colab-df-buttons\">\n",
              "\n",
              "  <div class=\"colab-df-container\">\n",
              "    <button class=\"colab-df-convert\" onclick=\"convertToInteractive('df-4b31b932-b91f-4205-aff2-c8bfcba038f2')\"\n",
              "            title=\"Convert this dataframe to an interactive table.\"\n",
              "            style=\"display:none;\">\n",
              "\n",
              "  <svg xmlns=\"http://www.w3.org/2000/svg\" height=\"24px\" viewBox=\"0 -960 960 960\">\n",
              "    <path d=\"M120-120v-720h720v720H120Zm60-500h600v-160H180v160Zm220 220h160v-160H400v160Zm0 220h160v-160H400v160ZM180-400h160v-160H180v160Zm440 0h160v-160H620v160ZM180-180h160v-160H180v160Zm440 0h160v-160H620v160Z\"/>\n",
              "  </svg>\n",
              "    </button>\n",
              "\n",
              "  <style>\n",
              "    .colab-df-container {\n",
              "      display:flex;\n",
              "      gap: 12px;\n",
              "    }\n",
              "\n",
              "    .colab-df-convert {\n",
              "      background-color: #E8F0FE;\n",
              "      border: none;\n",
              "      border-radius: 50%;\n",
              "      cursor: pointer;\n",
              "      display: none;\n",
              "      fill: #1967D2;\n",
              "      height: 32px;\n",
              "      padding: 0 0 0 0;\n",
              "      width: 32px;\n",
              "    }\n",
              "\n",
              "    .colab-df-convert:hover {\n",
              "      background-color: #E2EBFA;\n",
              "      box-shadow: 0px 1px 2px rgba(60, 64, 67, 0.3), 0px 1px 3px 1px rgba(60, 64, 67, 0.15);\n",
              "      fill: #174EA6;\n",
              "    }\n",
              "\n",
              "    .colab-df-buttons div {\n",
              "      margin-bottom: 4px;\n",
              "    }\n",
              "\n",
              "    [theme=dark] .colab-df-convert {\n",
              "      background-color: #3B4455;\n",
              "      fill: #D2E3FC;\n",
              "    }\n",
              "\n",
              "    [theme=dark] .colab-df-convert:hover {\n",
              "      background-color: #434B5C;\n",
              "      box-shadow: 0px 1px 3px 1px rgba(0, 0, 0, 0.15);\n",
              "      filter: drop-shadow(0px 1px 2px rgba(0, 0, 0, 0.3));\n",
              "      fill: #FFFFFF;\n",
              "    }\n",
              "  </style>\n",
              "\n",
              "    <script>\n",
              "      const buttonEl =\n",
              "        document.querySelector('#df-4b31b932-b91f-4205-aff2-c8bfcba038f2 button.colab-df-convert');\n",
              "      buttonEl.style.display =\n",
              "        google.colab.kernel.accessAllowed ? 'block' : 'none';\n",
              "\n",
              "      async function convertToInteractive(key) {\n",
              "        const element = document.querySelector('#df-4b31b932-b91f-4205-aff2-c8bfcba038f2');\n",
              "        const dataTable =\n",
              "          await google.colab.kernel.invokeFunction('convertToInteractive',\n",
              "                                                    [key], {});\n",
              "        if (!dataTable) return;\n",
              "\n",
              "        const docLinkHtml = 'Like what you see? Visit the ' +\n",
              "          '<a target=\"_blank\" href=https://colab.research.google.com/notebooks/data_table.ipynb>data table notebook</a>'\n",
              "          + ' to learn more about interactive tables.';\n",
              "        element.innerHTML = '';\n",
              "        dataTable['output_type'] = 'display_data';\n",
              "        await google.colab.output.renderOutput(dataTable, element);\n",
              "        const docLink = document.createElement('div');\n",
              "        docLink.innerHTML = docLinkHtml;\n",
              "        element.appendChild(docLink);\n",
              "      }\n",
              "    </script>\n",
              "  </div>\n",
              "\n",
              "\n",
              "<div id=\"df-fc132b81-3ba7-423b-a9fb-dfd364dc400e\">\n",
              "  <button class=\"colab-df-quickchart\" onclick=\"quickchart('df-fc132b81-3ba7-423b-a9fb-dfd364dc400e')\"\n",
              "            title=\"Suggest charts\"\n",
              "            style=\"display:none;\">\n",
              "\n",
              "<svg xmlns=\"http://www.w3.org/2000/svg\" height=\"24px\"viewBox=\"0 0 24 24\"\n",
              "     width=\"24px\">\n",
              "    <g>\n",
              "        <path d=\"M19 3H5c-1.1 0-2 .9-2 2v14c0 1.1.9 2 2 2h14c1.1 0 2-.9 2-2V5c0-1.1-.9-2-2-2zM9 17H7v-7h2v7zm4 0h-2V7h2v10zm4 0h-2v-4h2v4z\"/>\n",
              "    </g>\n",
              "</svg>\n",
              "  </button>\n",
              "\n",
              "<style>\n",
              "  .colab-df-quickchart {\n",
              "      --bg-color: #E8F0FE;\n",
              "      --fill-color: #1967D2;\n",
              "      --hover-bg-color: #E2EBFA;\n",
              "      --hover-fill-color: #174EA6;\n",
              "      --disabled-fill-color: #AAA;\n",
              "      --disabled-bg-color: #DDD;\n",
              "  }\n",
              "\n",
              "  [theme=dark] .colab-df-quickchart {\n",
              "      --bg-color: #3B4455;\n",
              "      --fill-color: #D2E3FC;\n",
              "      --hover-bg-color: #434B5C;\n",
              "      --hover-fill-color: #FFFFFF;\n",
              "      --disabled-bg-color: #3B4455;\n",
              "      --disabled-fill-color: #666;\n",
              "  }\n",
              "\n",
              "  .colab-df-quickchart {\n",
              "    background-color: var(--bg-color);\n",
              "    border: none;\n",
              "    border-radius: 50%;\n",
              "    cursor: pointer;\n",
              "    display: none;\n",
              "    fill: var(--fill-color);\n",
              "    height: 32px;\n",
              "    padding: 0;\n",
              "    width: 32px;\n",
              "  }\n",
              "\n",
              "  .colab-df-quickchart:hover {\n",
              "    background-color: var(--hover-bg-color);\n",
              "    box-shadow: 0 1px 2px rgba(60, 64, 67, 0.3), 0 1px 3px 1px rgba(60, 64, 67, 0.15);\n",
              "    fill: var(--button-hover-fill-color);\n",
              "  }\n",
              "\n",
              "  .colab-df-quickchart-complete:disabled,\n",
              "  .colab-df-quickchart-complete:disabled:hover {\n",
              "    background-color: var(--disabled-bg-color);\n",
              "    fill: var(--disabled-fill-color);\n",
              "    box-shadow: none;\n",
              "  }\n",
              "\n",
              "  .colab-df-spinner {\n",
              "    border: 2px solid var(--fill-color);\n",
              "    border-color: transparent;\n",
              "    border-bottom-color: var(--fill-color);\n",
              "    animation:\n",
              "      spin 1s steps(1) infinite;\n",
              "  }\n",
              "\n",
              "  @keyframes spin {\n",
              "    0% {\n",
              "      border-color: transparent;\n",
              "      border-bottom-color: var(--fill-color);\n",
              "      border-left-color: var(--fill-color);\n",
              "    }\n",
              "    20% {\n",
              "      border-color: transparent;\n",
              "      border-left-color: var(--fill-color);\n",
              "      border-top-color: var(--fill-color);\n",
              "    }\n",
              "    30% {\n",
              "      border-color: transparent;\n",
              "      border-left-color: var(--fill-color);\n",
              "      border-top-color: var(--fill-color);\n",
              "      border-right-color: var(--fill-color);\n",
              "    }\n",
              "    40% {\n",
              "      border-color: transparent;\n",
              "      border-right-color: var(--fill-color);\n",
              "      border-top-color: var(--fill-color);\n",
              "    }\n",
              "    60% {\n",
              "      border-color: transparent;\n",
              "      border-right-color: var(--fill-color);\n",
              "    }\n",
              "    80% {\n",
              "      border-color: transparent;\n",
              "      border-right-color: var(--fill-color);\n",
              "      border-bottom-color: var(--fill-color);\n",
              "    }\n",
              "    90% {\n",
              "      border-color: transparent;\n",
              "      border-bottom-color: var(--fill-color);\n",
              "    }\n",
              "  }\n",
              "</style>\n",
              "\n",
              "  <script>\n",
              "    async function quickchart(key) {\n",
              "      const quickchartButtonEl =\n",
              "        document.querySelector('#' + key + ' button');\n",
              "      quickchartButtonEl.disabled = true;  // To prevent multiple clicks.\n",
              "      quickchartButtonEl.classList.add('colab-df-spinner');\n",
              "      try {\n",
              "        const charts = await google.colab.kernel.invokeFunction(\n",
              "            'suggestCharts', [key], {});\n",
              "      } catch (error) {\n",
              "        console.error('Error during call to suggestCharts:', error);\n",
              "      }\n",
              "      quickchartButtonEl.classList.remove('colab-df-spinner');\n",
              "      quickchartButtonEl.classList.add('colab-df-quickchart-complete');\n",
              "    }\n",
              "    (() => {\n",
              "      let quickchartButtonEl =\n",
              "        document.querySelector('#df-fc132b81-3ba7-423b-a9fb-dfd364dc400e button');\n",
              "      quickchartButtonEl.style.display =\n",
              "        google.colab.kernel.accessAllowed ? 'block' : 'none';\n",
              "    })();\n",
              "  </script>\n",
              "</div>\n",
              "\n",
              "  <div id=\"id_b6ba64bb-958f-4c81-ab87-1af4e758f1f9\">\n",
              "    <style>\n",
              "      .colab-df-generate {\n",
              "        background-color: #E8F0FE;\n",
              "        border: none;\n",
              "        border-radius: 50%;\n",
              "        cursor: pointer;\n",
              "        display: none;\n",
              "        fill: #1967D2;\n",
              "        height: 32px;\n",
              "        padding: 0 0 0 0;\n",
              "        width: 32px;\n",
              "      }\n",
              "\n",
              "      .colab-df-generate:hover {\n",
              "        background-color: #E2EBFA;\n",
              "        box-shadow: 0px 1px 2px rgba(60, 64, 67, 0.3), 0px 1px 3px 1px rgba(60, 64, 67, 0.15);\n",
              "        fill: #174EA6;\n",
              "      }\n",
              "\n",
              "      [theme=dark] .colab-df-generate {\n",
              "        background-color: #3B4455;\n",
              "        fill: #D2E3FC;\n",
              "      }\n",
              "\n",
              "      [theme=dark] .colab-df-generate:hover {\n",
              "        background-color: #434B5C;\n",
              "        box-shadow: 0px 1px 3px 1px rgba(0, 0, 0, 0.15);\n",
              "        filter: drop-shadow(0px 1px 2px rgba(0, 0, 0, 0.3));\n",
              "        fill: #FFFFFF;\n",
              "      }\n",
              "    </style>\n",
              "    <button class=\"colab-df-generate\" onclick=\"generateWithVariable('stock_data')\"\n",
              "            title=\"Generate code using this dataframe.\"\n",
              "            style=\"display:none;\">\n",
              "\n",
              "  <svg xmlns=\"http://www.w3.org/2000/svg\" height=\"24px\"viewBox=\"0 0 24 24\"\n",
              "       width=\"24px\">\n",
              "    <path d=\"M7,19H8.4L18.45,9,17,7.55,7,17.6ZM5,21V16.75L18.45,3.32a2,2,0,0,1,2.83,0l1.4,1.43a1.91,1.91,0,0,1,.58,1.4,1.91,1.91,0,0,1-.58,1.4L9.25,21ZM18.45,9,17,7.55Zm-12,3A5.31,5.31,0,0,0,4.9,8.1,5.31,5.31,0,0,0,1,6.5,5.31,5.31,0,0,0,4.9,4.9,5.31,5.31,0,0,0,6.5,1,5.31,5.31,0,0,0,8.1,4.9,5.31,5.31,0,0,0,12,6.5,5.46,5.46,0,0,0,6.5,12Z\"/>\n",
              "  </svg>\n",
              "    </button>\n",
              "    <script>\n",
              "      (() => {\n",
              "      const buttonEl =\n",
              "        document.querySelector('#id_b6ba64bb-958f-4c81-ab87-1af4e758f1f9 button.colab-df-generate');\n",
              "      buttonEl.style.display =\n",
              "        google.colab.kernel.accessAllowed ? 'block' : 'none';\n",
              "\n",
              "      buttonEl.onclick = () => {\n",
              "        google.colab.notebook.generateWithVariable('stock_data');\n",
              "      }\n",
              "      })();\n",
              "    </script>\n",
              "  </div>\n",
              "\n",
              "    </div>\n",
              "  </div>\n"
            ],
            "application/vnd.google.colaboratory.intrinsic+json": {
              "type": "dataframe",
              "variable_name": "stock_data",
              "summary": "{\n  \"name\": \"stock_data\",\n  \"rows\": 79,\n  \"fields\": [\n    {\n      \"column\": \"Date\",\n      \"properties\": {\n        \"dtype\": \"date\",\n        \"min\": \"2023-01-02 00:00:00\",\n        \"max\": \"2023-04-28 00:00:00\",\n        \"num_unique_values\": 79,\n        \"samples\": [\n          \"2023-02-14 00:00:00\",\n          \"2023-01-02 00:00:00\",\n          \"2023-02-02 00:00:00\"\n        ],\n        \"semantic_type\": \"\",\n        \"description\": \"\"\n      }\n    },\n    {\n      \"column\": \"Open\",\n      \"properties\": {\n        \"dtype\": \"number\",\n        \"std\": 5.749720754210094,\n        \"min\": 92.9000015258789,\n        \"max\": 112.0,\n        \"num_unique_values\": 66,\n        \"samples\": [\n          105.44999694824219,\n          108.4000015258789,\n          96.5\n        ],\n        \"semantic_type\": \"\",\n        \"description\": \"\"\n      }\n    },\n    {\n      \"column\": \"High\",\n      \"properties\": {\n        \"dtype\": \"number\",\n        \"std\": 5.884833087850691,\n        \"min\": 94.30000305175781,\n        \"max\": 112.80000305175781,\n        \"num_unique_values\": 66,\n        \"samples\": [\n          107.0999984741211,\n          110.19999694824219,\n          96.80000305175781\n        ],\n        \"semantic_type\": \"\",\n        \"description\": \"\"\n      }\n    },\n    {\n      \"column\": \"Low\",\n      \"properties\": {\n        \"dtype\": \"number\",\n        \"std\": 5.688198919942351,\n        \"min\": 91.05000305175781,\n        \"max\": 109.8499984741211,\n        \"num_unique_values\": 68,\n        \"samples\": [\n          104.4000015258789,\n          97.9000015258789,\n          97.8499984741211\n        ],\n        \"semantic_type\": \"\",\n        \"description\": \"\"\n      }\n    },\n    {\n      \"column\": \"Close\",\n      \"properties\": {\n        \"dtype\": \"number\",\n        \"std\": 5.712722367691193,\n        \"min\": 92.80000305175781,\n        \"max\": 111.25,\n        \"num_unique_values\": 66,\n        \"samples\": [\n          105.94999694824219,\n          108.3499984741211,\n          96.5999984741211\n        ],\n        \"semantic_type\": \"\",\n        \"description\": \"\"\n      }\n    },\n    {\n      \"column\": \"Adj Close\",\n      \"properties\": {\n        \"dtype\": \"number\",\n        \"std\": 6.518076397015131,\n        \"min\": 86.71112823486328,\n        \"max\": 106.86244201660156,\n        \"num_unique_values\": 68,\n        \"samples\": [\n          102.59571075439453,\n          92.64448547363281,\n          90.86914825439453\n        ],\n        \"semantic_type\": \"\",\n        \"description\": \"\"\n      }\n    },\n    {\n      \"column\": \"Volume\",\n      \"properties\": {\n        \"dtype\": \"number\",\n        \"std\": 8844163,\n        \"min\": 4621698,\n        \"max\": 45176952,\n        \"num_unique_values\": 79,\n        \"samples\": [\n          7505908,\n          9433822,\n          17726153\n        ],\n        \"semantic_type\": \"\",\n        \"description\": \"\"\n      }\n    }\n  ]\n}"
            }
          },
          "metadata": {},
          "execution_count": 8
        }
      ],
      "source": [
        "stock_data"
      ]
    },
    {
      "cell_type": "code",
      "execution_count": 9,
      "id": "b76b652b-99fd-48dd-8138-434281dc728c",
      "metadata": {
        "id": "b76b652b-99fd-48dd-8138-434281dc728c"
      },
      "outputs": [],
      "source": [
        "stock_data['Next_Day_Trend'] = np.where(stock_data['Close'].shift(-1) > stock_data['Close'], 1, 0)"
      ]
    },
    {
      "cell_type": "code",
      "execution_count": 10,
      "id": "bc23252c-636e-4d1c-9600-fbb66196f74b",
      "metadata": {
        "colab": {
          "base_uri": "https://localhost:8080/"
        },
        "id": "bc23252c-636e-4d1c-9600-fbb66196f74b",
        "outputId": "7089ca7f-fc33-4900-c13f-93a8a5f064d5"
      },
      "outputs": [
        {
          "output_type": "stream",
          "name": "stderr",
          "text": [
            "<ipython-input-10-b1fbb0e3c815>:1: FutureWarning: DataFrame.fillna with 'method' is deprecated and will raise in a future version. Use obj.ffill() or obj.bfill() instead.\n",
            "  clean_stock_data = stock_data.fillna(method='ffill')\n"
          ]
        }
      ],
      "source": [
        "clean_stock_data = stock_data.fillna(method='ffill')"
      ]
    },
    {
      "cell_type": "code",
      "execution_count": 11,
      "id": "97160e00-b428-44bb-87cb-bcc764664fa3",
      "metadata": {
        "id": "97160e00-b428-44bb-87cb-bcc764664fa3"
      },
      "outputs": [],
      "source": [
        "clean_stock_data['Short_MA'] = clean_stock_data['Close'].rolling(window=10).mean()\n",
        "clean_stock_data['Long_MA'] = clean_stock_data['Close'].rolling(window=50).mean()"
      ]
    },
    {
      "cell_type": "code",
      "execution_count": 12,
      "id": "282deaf3-0a38-489e-b3d6-b37b49ed5370",
      "metadata": {
        "id": "282deaf3-0a38-489e-b3d6-b37b49ed5370"
      },
      "outputs": [],
      "source": [
        "delta = clean_stock_data['Close'].diff()\n",
        "gain = (delta.where(delta > 0, 0)).rolling(window=50).mean()\n",
        "loss = (-delta.where(delta < 0, 0)).rolling(window=50).mean()\n",
        "RS = gain / loss\n",
        "RSI = 100 - (100 / (1 + RS))\n",
        "clean_stock_data['RSI'] = RSI\n",
        "\n",
        "# Drop NaN values generated by rolling calculations\n",
        "clean_stock_data.dropna(inplace=True)"
      ]
    },
    {
      "cell_type": "code",
      "execution_count": 13,
      "id": "f99bad2d-3fd4-41cd-b1f0-9aca3660a48b",
      "metadata": {
        "id": "f99bad2d-3fd4-41cd-b1f0-9aca3660a48b"
      },
      "outputs": [],
      "source": [
        "from sklearn.linear_model import LinearRegression\n",
        "from sklearn.metrics import mean_squared_error, mean_absolute_error, r2_score\n",
        "from sklearn.preprocessing import MinMaxScaler\n",
        "from sklearn.svm import SVR\n",
        "from sklearn.ensemble import RandomForestRegressor\n",
        "from sklearn.ensemble import GradientBoostingRegressor\n",
        "from tensorflow.keras.models import Sequential\n",
        "from tensorflow.keras.layers import LSTM, Dense, Dropout\n",
        "from tensorflow.keras.metrics import BinaryAccuracy\n"
      ]
    },
    {
      "cell_type": "code",
      "execution_count": 14,
      "id": "59671e84-751e-4762-9f5c-7cf1d2e1a70f",
      "metadata": {
        "id": "59671e84-751e-4762-9f5c-7cf1d2e1a70f"
      },
      "outputs": [],
      "source": [
        "clean_stock_data['Next_Day_Trend'] = np.where(clean_stock_data['Close'].shift(-1) > clean_stock_data['Close'], 1, 0)"
      ]
    },
    {
      "cell_type": "code",
      "execution_count": 15,
      "id": "ae3893c4-b41c-4f0e-b62d-ad5122b2d49f",
      "metadata": {
        "id": "ae3893c4-b41c-4f0e-b62d-ad5122b2d49f"
      },
      "outputs": [],
      "source": [
        "features = ['Short_MA', 'Long_MA', 'RSI', 'Next_Day_Trend']\n",
        "target = 'Close'"
      ]
    },
    {
      "cell_type": "code",
      "execution_count": 16,
      "id": "e5fec596-e968-4f40-9db1-480698b40ea7",
      "metadata": {
        "id": "e5fec596-e968-4f40-9db1-480698b40ea7"
      },
      "outputs": [],
      "source": [
        "train_size = int(0.8 * len(clean_stock_data))\n",
        "train_data = clean_stock_data[:train_size]\n",
        "test_data = clean_stock_data[train_size:]\n"
      ]
    },
    {
      "cell_type": "code",
      "execution_count": 17,
      "id": "5476b0cd-3e69-4498-b191-4d0097aa9219",
      "metadata": {
        "colab": {
          "base_uri": "https://localhost:8080/",
          "height": 74
        },
        "id": "5476b0cd-3e69-4498-b191-4d0097aa9219",
        "outputId": "96336af5-6461-482f-8b07-d16dca1eab76"
      },
      "outputs": [
        {
          "output_type": "execute_result",
          "data": {
            "text/plain": [
              "LinearRegression()"
            ],
            "text/html": [
              "<style>#sk-container-id-1 {color: black;}#sk-container-id-1 pre{padding: 0;}#sk-container-id-1 div.sk-toggleable {background-color: white;}#sk-container-id-1 label.sk-toggleable__label {cursor: pointer;display: block;width: 100%;margin-bottom: 0;padding: 0.3em;box-sizing: border-box;text-align: center;}#sk-container-id-1 label.sk-toggleable__label-arrow:before {content: \"▸\";float: left;margin-right: 0.25em;color: #696969;}#sk-container-id-1 label.sk-toggleable__label-arrow:hover:before {color: black;}#sk-container-id-1 div.sk-estimator:hover label.sk-toggleable__label-arrow:before {color: black;}#sk-container-id-1 div.sk-toggleable__content {max-height: 0;max-width: 0;overflow: hidden;text-align: left;background-color: #f0f8ff;}#sk-container-id-1 div.sk-toggleable__content pre {margin: 0.2em;color: black;border-radius: 0.25em;background-color: #f0f8ff;}#sk-container-id-1 input.sk-toggleable__control:checked~div.sk-toggleable__content {max-height: 200px;max-width: 100%;overflow: auto;}#sk-container-id-1 input.sk-toggleable__control:checked~label.sk-toggleable__label-arrow:before {content: \"▾\";}#sk-container-id-1 div.sk-estimator input.sk-toggleable__control:checked~label.sk-toggleable__label {background-color: #d4ebff;}#sk-container-id-1 div.sk-label input.sk-toggleable__control:checked~label.sk-toggleable__label {background-color: #d4ebff;}#sk-container-id-1 input.sk-hidden--visually {border: 0;clip: rect(1px 1px 1px 1px);clip: rect(1px, 1px, 1px, 1px);height: 1px;margin: -1px;overflow: hidden;padding: 0;position: absolute;width: 1px;}#sk-container-id-1 div.sk-estimator {font-family: monospace;background-color: #f0f8ff;border: 1px dotted black;border-radius: 0.25em;box-sizing: border-box;margin-bottom: 0.5em;}#sk-container-id-1 div.sk-estimator:hover {background-color: #d4ebff;}#sk-container-id-1 div.sk-parallel-item::after {content: \"\";width: 100%;border-bottom: 1px solid gray;flex-grow: 1;}#sk-container-id-1 div.sk-label:hover label.sk-toggleable__label {background-color: #d4ebff;}#sk-container-id-1 div.sk-serial::before {content: \"\";position: absolute;border-left: 1px solid gray;box-sizing: border-box;top: 0;bottom: 0;left: 50%;z-index: 0;}#sk-container-id-1 div.sk-serial {display: flex;flex-direction: column;align-items: center;background-color: white;padding-right: 0.2em;padding-left: 0.2em;position: relative;}#sk-container-id-1 div.sk-item {position: relative;z-index: 1;}#sk-container-id-1 div.sk-parallel {display: flex;align-items: stretch;justify-content: center;background-color: white;position: relative;}#sk-container-id-1 div.sk-item::before, #sk-container-id-1 div.sk-parallel-item::before {content: \"\";position: absolute;border-left: 1px solid gray;box-sizing: border-box;top: 0;bottom: 0;left: 50%;z-index: -1;}#sk-container-id-1 div.sk-parallel-item {display: flex;flex-direction: column;z-index: 1;position: relative;background-color: white;}#sk-container-id-1 div.sk-parallel-item:first-child::after {align-self: flex-end;width: 50%;}#sk-container-id-1 div.sk-parallel-item:last-child::after {align-self: flex-start;width: 50%;}#sk-container-id-1 div.sk-parallel-item:only-child::after {width: 0;}#sk-container-id-1 div.sk-dashed-wrapped {border: 1px dashed gray;margin: 0 0.4em 0.5em 0.4em;box-sizing: border-box;padding-bottom: 0.4em;background-color: white;}#sk-container-id-1 div.sk-label label {font-family: monospace;font-weight: bold;display: inline-block;line-height: 1.2em;}#sk-container-id-1 div.sk-label-container {text-align: center;}#sk-container-id-1 div.sk-container {/* jupyter's `normalize.less` sets `[hidden] { display: none; }` but bootstrap.min.css set `[hidden] { display: none !important; }` so we also need the `!important` here to be able to override the default hidden behavior on the sphinx rendered scikit-learn.org. See: https://github.com/scikit-learn/scikit-learn/issues/21755 */display: inline-block !important;position: relative;}#sk-container-id-1 div.sk-text-repr-fallback {display: none;}</style><div id=\"sk-container-id-1\" class=\"sk-top-container\"><div class=\"sk-text-repr-fallback\"><pre>LinearRegression()</pre><b>In a Jupyter environment, please rerun this cell to show the HTML representation or trust the notebook. <br />On GitHub, the HTML representation is unable to render, please try loading this page with nbviewer.org.</b></div><div class=\"sk-container\" hidden><div class=\"sk-item\"><div class=\"sk-estimator sk-toggleable\"><input class=\"sk-toggleable__control sk-hidden--visually\" id=\"sk-estimator-id-1\" type=\"checkbox\" checked><label for=\"sk-estimator-id-1\" class=\"sk-toggleable__label sk-toggleable__label-arrow\">LinearRegression</label><div class=\"sk-toggleable__content\"><pre>LinearRegression()</pre></div></div></div></div></div>"
            ]
          },
          "metadata": {},
          "execution_count": 17
        }
      ],
      "source": [
        "\n",
        "# Training using Linear Regression as a baseline model\n",
        "model_lr = LinearRegression()\n",
        "model_lr.fit(train_data[features], train_data[target])\n",
        "\n"
      ]
    },
    {
      "cell_type": "code",
      "execution_count": 18,
      "id": "bcb19881-ae1e-42d1-93ed-cf8d2564ed80",
      "metadata": {
        "colab": {
          "base_uri": "https://localhost:8080/",
          "height": 74
        },
        "id": "bcb19881-ae1e-42d1-93ed-cf8d2564ed80",
        "outputId": "3095f8ef-fb8f-4205-e849-c496856a8726"
      },
      "outputs": [
        {
          "output_type": "execute_result",
          "data": {
            "text/plain": [
              "SVR(kernel='linear')"
            ],
            "text/html": [
              "<style>#sk-container-id-2 {color: black;}#sk-container-id-2 pre{padding: 0;}#sk-container-id-2 div.sk-toggleable {background-color: white;}#sk-container-id-2 label.sk-toggleable__label {cursor: pointer;display: block;width: 100%;margin-bottom: 0;padding: 0.3em;box-sizing: border-box;text-align: center;}#sk-container-id-2 label.sk-toggleable__label-arrow:before {content: \"▸\";float: left;margin-right: 0.25em;color: #696969;}#sk-container-id-2 label.sk-toggleable__label-arrow:hover:before {color: black;}#sk-container-id-2 div.sk-estimator:hover label.sk-toggleable__label-arrow:before {color: black;}#sk-container-id-2 div.sk-toggleable__content {max-height: 0;max-width: 0;overflow: hidden;text-align: left;background-color: #f0f8ff;}#sk-container-id-2 div.sk-toggleable__content pre {margin: 0.2em;color: black;border-radius: 0.25em;background-color: #f0f8ff;}#sk-container-id-2 input.sk-toggleable__control:checked~div.sk-toggleable__content {max-height: 200px;max-width: 100%;overflow: auto;}#sk-container-id-2 input.sk-toggleable__control:checked~label.sk-toggleable__label-arrow:before {content: \"▾\";}#sk-container-id-2 div.sk-estimator input.sk-toggleable__control:checked~label.sk-toggleable__label {background-color: #d4ebff;}#sk-container-id-2 div.sk-label input.sk-toggleable__control:checked~label.sk-toggleable__label {background-color: #d4ebff;}#sk-container-id-2 input.sk-hidden--visually {border: 0;clip: rect(1px 1px 1px 1px);clip: rect(1px, 1px, 1px, 1px);height: 1px;margin: -1px;overflow: hidden;padding: 0;position: absolute;width: 1px;}#sk-container-id-2 div.sk-estimator {font-family: monospace;background-color: #f0f8ff;border: 1px dotted black;border-radius: 0.25em;box-sizing: border-box;margin-bottom: 0.5em;}#sk-container-id-2 div.sk-estimator:hover {background-color: #d4ebff;}#sk-container-id-2 div.sk-parallel-item::after {content: \"\";width: 100%;border-bottom: 1px solid gray;flex-grow: 1;}#sk-container-id-2 div.sk-label:hover label.sk-toggleable__label {background-color: #d4ebff;}#sk-container-id-2 div.sk-serial::before {content: \"\";position: absolute;border-left: 1px solid gray;box-sizing: border-box;top: 0;bottom: 0;left: 50%;z-index: 0;}#sk-container-id-2 div.sk-serial {display: flex;flex-direction: column;align-items: center;background-color: white;padding-right: 0.2em;padding-left: 0.2em;position: relative;}#sk-container-id-2 div.sk-item {position: relative;z-index: 1;}#sk-container-id-2 div.sk-parallel {display: flex;align-items: stretch;justify-content: center;background-color: white;position: relative;}#sk-container-id-2 div.sk-item::before, #sk-container-id-2 div.sk-parallel-item::before {content: \"\";position: absolute;border-left: 1px solid gray;box-sizing: border-box;top: 0;bottom: 0;left: 50%;z-index: -1;}#sk-container-id-2 div.sk-parallel-item {display: flex;flex-direction: column;z-index: 1;position: relative;background-color: white;}#sk-container-id-2 div.sk-parallel-item:first-child::after {align-self: flex-end;width: 50%;}#sk-container-id-2 div.sk-parallel-item:last-child::after {align-self: flex-start;width: 50%;}#sk-container-id-2 div.sk-parallel-item:only-child::after {width: 0;}#sk-container-id-2 div.sk-dashed-wrapped {border: 1px dashed gray;margin: 0 0.4em 0.5em 0.4em;box-sizing: border-box;padding-bottom: 0.4em;background-color: white;}#sk-container-id-2 div.sk-label label {font-family: monospace;font-weight: bold;display: inline-block;line-height: 1.2em;}#sk-container-id-2 div.sk-label-container {text-align: center;}#sk-container-id-2 div.sk-container {/* jupyter's `normalize.less` sets `[hidden] { display: none; }` but bootstrap.min.css set `[hidden] { display: none !important; }` so we also need the `!important` here to be able to override the default hidden behavior on the sphinx rendered scikit-learn.org. See: https://github.com/scikit-learn/scikit-learn/issues/21755 */display: inline-block !important;position: relative;}#sk-container-id-2 div.sk-text-repr-fallback {display: none;}</style><div id=\"sk-container-id-2\" class=\"sk-top-container\"><div class=\"sk-text-repr-fallback\"><pre>SVR(kernel=&#x27;linear&#x27;)</pre><b>In a Jupyter environment, please rerun this cell to show the HTML representation or trust the notebook. <br />On GitHub, the HTML representation is unable to render, please try loading this page with nbviewer.org.</b></div><div class=\"sk-container\" hidden><div class=\"sk-item\"><div class=\"sk-estimator sk-toggleable\"><input class=\"sk-toggleable__control sk-hidden--visually\" id=\"sk-estimator-id-2\" type=\"checkbox\" checked><label for=\"sk-estimator-id-2\" class=\"sk-toggleable__label sk-toggleable__label-arrow\">SVR</label><div class=\"sk-toggleable__content\"><pre>SVR(kernel=&#x27;linear&#x27;)</pre></div></div></div></div></div>"
            ]
          },
          "metadata": {},
          "execution_count": 18
        }
      ],
      "source": [
        "\n",
        "# Training using Support Vector Machine (SVR)\n",
        "model_svr = SVR(kernel='linear')\n",
        "model_svr.fit(train_data[features], train_data[target])"
      ]
    },
    {
      "cell_type": "code",
      "execution_count": 19,
      "id": "b59b2f34-944c-4883-9f77-8f1fadce34d4",
      "metadata": {
        "colab": {
          "base_uri": "https://localhost:8080/",
          "height": 74
        },
        "id": "b59b2f34-944c-4883-9f77-8f1fadce34d4",
        "outputId": "3e99373e-a879-481f-a44b-709d099ba5f4"
      },
      "outputs": [
        {
          "output_type": "execute_result",
          "data": {
            "text/plain": [
              "RandomForestRegressor(random_state=42)"
            ],
            "text/html": [
              "<style>#sk-container-id-3 {color: black;}#sk-container-id-3 pre{padding: 0;}#sk-container-id-3 div.sk-toggleable {background-color: white;}#sk-container-id-3 label.sk-toggleable__label {cursor: pointer;display: block;width: 100%;margin-bottom: 0;padding: 0.3em;box-sizing: border-box;text-align: center;}#sk-container-id-3 label.sk-toggleable__label-arrow:before {content: \"▸\";float: left;margin-right: 0.25em;color: #696969;}#sk-container-id-3 label.sk-toggleable__label-arrow:hover:before {color: black;}#sk-container-id-3 div.sk-estimator:hover label.sk-toggleable__label-arrow:before {color: black;}#sk-container-id-3 div.sk-toggleable__content {max-height: 0;max-width: 0;overflow: hidden;text-align: left;background-color: #f0f8ff;}#sk-container-id-3 div.sk-toggleable__content pre {margin: 0.2em;color: black;border-radius: 0.25em;background-color: #f0f8ff;}#sk-container-id-3 input.sk-toggleable__control:checked~div.sk-toggleable__content {max-height: 200px;max-width: 100%;overflow: auto;}#sk-container-id-3 input.sk-toggleable__control:checked~label.sk-toggleable__label-arrow:before {content: \"▾\";}#sk-container-id-3 div.sk-estimator input.sk-toggleable__control:checked~label.sk-toggleable__label {background-color: #d4ebff;}#sk-container-id-3 div.sk-label input.sk-toggleable__control:checked~label.sk-toggleable__label {background-color: #d4ebff;}#sk-container-id-3 input.sk-hidden--visually {border: 0;clip: rect(1px 1px 1px 1px);clip: rect(1px, 1px, 1px, 1px);height: 1px;margin: -1px;overflow: hidden;padding: 0;position: absolute;width: 1px;}#sk-container-id-3 div.sk-estimator {font-family: monospace;background-color: #f0f8ff;border: 1px dotted black;border-radius: 0.25em;box-sizing: border-box;margin-bottom: 0.5em;}#sk-container-id-3 div.sk-estimator:hover {background-color: #d4ebff;}#sk-container-id-3 div.sk-parallel-item::after {content: \"\";width: 100%;border-bottom: 1px solid gray;flex-grow: 1;}#sk-container-id-3 div.sk-label:hover label.sk-toggleable__label {background-color: #d4ebff;}#sk-container-id-3 div.sk-serial::before {content: \"\";position: absolute;border-left: 1px solid gray;box-sizing: border-box;top: 0;bottom: 0;left: 50%;z-index: 0;}#sk-container-id-3 div.sk-serial {display: flex;flex-direction: column;align-items: center;background-color: white;padding-right: 0.2em;padding-left: 0.2em;position: relative;}#sk-container-id-3 div.sk-item {position: relative;z-index: 1;}#sk-container-id-3 div.sk-parallel {display: flex;align-items: stretch;justify-content: center;background-color: white;position: relative;}#sk-container-id-3 div.sk-item::before, #sk-container-id-3 div.sk-parallel-item::before {content: \"\";position: absolute;border-left: 1px solid gray;box-sizing: border-box;top: 0;bottom: 0;left: 50%;z-index: -1;}#sk-container-id-3 div.sk-parallel-item {display: flex;flex-direction: column;z-index: 1;position: relative;background-color: white;}#sk-container-id-3 div.sk-parallel-item:first-child::after {align-self: flex-end;width: 50%;}#sk-container-id-3 div.sk-parallel-item:last-child::after {align-self: flex-start;width: 50%;}#sk-container-id-3 div.sk-parallel-item:only-child::after {width: 0;}#sk-container-id-3 div.sk-dashed-wrapped {border: 1px dashed gray;margin: 0 0.4em 0.5em 0.4em;box-sizing: border-box;padding-bottom: 0.4em;background-color: white;}#sk-container-id-3 div.sk-label label {font-family: monospace;font-weight: bold;display: inline-block;line-height: 1.2em;}#sk-container-id-3 div.sk-label-container {text-align: center;}#sk-container-id-3 div.sk-container {/* jupyter's `normalize.less` sets `[hidden] { display: none; }` but bootstrap.min.css set `[hidden] { display: none !important; }` so we also need the `!important` here to be able to override the default hidden behavior on the sphinx rendered scikit-learn.org. See: https://github.com/scikit-learn/scikit-learn/issues/21755 */display: inline-block !important;position: relative;}#sk-container-id-3 div.sk-text-repr-fallback {display: none;}</style><div id=\"sk-container-id-3\" class=\"sk-top-container\"><div class=\"sk-text-repr-fallback\"><pre>RandomForestRegressor(random_state=42)</pre><b>In a Jupyter environment, please rerun this cell to show the HTML representation or trust the notebook. <br />On GitHub, the HTML representation is unable to render, please try loading this page with nbviewer.org.</b></div><div class=\"sk-container\" hidden><div class=\"sk-item\"><div class=\"sk-estimator sk-toggleable\"><input class=\"sk-toggleable__control sk-hidden--visually\" id=\"sk-estimator-id-3\" type=\"checkbox\" checked><label for=\"sk-estimator-id-3\" class=\"sk-toggleable__label sk-toggleable__label-arrow\">RandomForestRegressor</label><div class=\"sk-toggleable__content\"><pre>RandomForestRegressor(random_state=42)</pre></div></div></div></div></div>"
            ]
          },
          "metadata": {},
          "execution_count": 19
        }
      ],
      "source": [
        "# Training using Random Forest\n",
        "model_rf = RandomForestRegressor(n_estimators=100, random_state=42)\n",
        "model_rf.fit(train_data[features], train_data[target])"
      ]
    },
    {
      "cell_type": "code",
      "execution_count": 20,
      "id": "50fe0523-8f54-41b1-bd3a-ceddabe6eb59",
      "metadata": {
        "colab": {
          "base_uri": "https://localhost:8080/",
          "height": 74
        },
        "id": "50fe0523-8f54-41b1-bd3a-ceddabe6eb59",
        "outputId": "e31379f3-3187-48bc-8328-3ae15fc15f15"
      },
      "outputs": [
        {
          "output_type": "execute_result",
          "data": {
            "text/plain": [
              "GradientBoostingRegressor(random_state=42)"
            ],
            "text/html": [
              "<style>#sk-container-id-4 {color: black;}#sk-container-id-4 pre{padding: 0;}#sk-container-id-4 div.sk-toggleable {background-color: white;}#sk-container-id-4 label.sk-toggleable__label {cursor: pointer;display: block;width: 100%;margin-bottom: 0;padding: 0.3em;box-sizing: border-box;text-align: center;}#sk-container-id-4 label.sk-toggleable__label-arrow:before {content: \"▸\";float: left;margin-right: 0.25em;color: #696969;}#sk-container-id-4 label.sk-toggleable__label-arrow:hover:before {color: black;}#sk-container-id-4 div.sk-estimator:hover label.sk-toggleable__label-arrow:before {color: black;}#sk-container-id-4 div.sk-toggleable__content {max-height: 0;max-width: 0;overflow: hidden;text-align: left;background-color: #f0f8ff;}#sk-container-id-4 div.sk-toggleable__content pre {margin: 0.2em;color: black;border-radius: 0.25em;background-color: #f0f8ff;}#sk-container-id-4 input.sk-toggleable__control:checked~div.sk-toggleable__content {max-height: 200px;max-width: 100%;overflow: auto;}#sk-container-id-4 input.sk-toggleable__control:checked~label.sk-toggleable__label-arrow:before {content: \"▾\";}#sk-container-id-4 div.sk-estimator input.sk-toggleable__control:checked~label.sk-toggleable__label {background-color: #d4ebff;}#sk-container-id-4 div.sk-label input.sk-toggleable__control:checked~label.sk-toggleable__label {background-color: #d4ebff;}#sk-container-id-4 input.sk-hidden--visually {border: 0;clip: rect(1px 1px 1px 1px);clip: rect(1px, 1px, 1px, 1px);height: 1px;margin: -1px;overflow: hidden;padding: 0;position: absolute;width: 1px;}#sk-container-id-4 div.sk-estimator {font-family: monospace;background-color: #f0f8ff;border: 1px dotted black;border-radius: 0.25em;box-sizing: border-box;margin-bottom: 0.5em;}#sk-container-id-4 div.sk-estimator:hover {background-color: #d4ebff;}#sk-container-id-4 div.sk-parallel-item::after {content: \"\";width: 100%;border-bottom: 1px solid gray;flex-grow: 1;}#sk-container-id-4 div.sk-label:hover label.sk-toggleable__label {background-color: #d4ebff;}#sk-container-id-4 div.sk-serial::before {content: \"\";position: absolute;border-left: 1px solid gray;box-sizing: border-box;top: 0;bottom: 0;left: 50%;z-index: 0;}#sk-container-id-4 div.sk-serial {display: flex;flex-direction: column;align-items: center;background-color: white;padding-right: 0.2em;padding-left: 0.2em;position: relative;}#sk-container-id-4 div.sk-item {position: relative;z-index: 1;}#sk-container-id-4 div.sk-parallel {display: flex;align-items: stretch;justify-content: center;background-color: white;position: relative;}#sk-container-id-4 div.sk-item::before, #sk-container-id-4 div.sk-parallel-item::before {content: \"\";position: absolute;border-left: 1px solid gray;box-sizing: border-box;top: 0;bottom: 0;left: 50%;z-index: -1;}#sk-container-id-4 div.sk-parallel-item {display: flex;flex-direction: column;z-index: 1;position: relative;background-color: white;}#sk-container-id-4 div.sk-parallel-item:first-child::after {align-self: flex-end;width: 50%;}#sk-container-id-4 div.sk-parallel-item:last-child::after {align-self: flex-start;width: 50%;}#sk-container-id-4 div.sk-parallel-item:only-child::after {width: 0;}#sk-container-id-4 div.sk-dashed-wrapped {border: 1px dashed gray;margin: 0 0.4em 0.5em 0.4em;box-sizing: border-box;padding-bottom: 0.4em;background-color: white;}#sk-container-id-4 div.sk-label label {font-family: monospace;font-weight: bold;display: inline-block;line-height: 1.2em;}#sk-container-id-4 div.sk-label-container {text-align: center;}#sk-container-id-4 div.sk-container {/* jupyter's `normalize.less` sets `[hidden] { display: none; }` but bootstrap.min.css set `[hidden] { display: none !important; }` so we also need the `!important` here to be able to override the default hidden behavior on the sphinx rendered scikit-learn.org. See: https://github.com/scikit-learn/scikit-learn/issues/21755 */display: inline-block !important;position: relative;}#sk-container-id-4 div.sk-text-repr-fallback {display: none;}</style><div id=\"sk-container-id-4\" class=\"sk-top-container\"><div class=\"sk-text-repr-fallback\"><pre>GradientBoostingRegressor(random_state=42)</pre><b>In a Jupyter environment, please rerun this cell to show the HTML representation or trust the notebook. <br />On GitHub, the HTML representation is unable to render, please try loading this page with nbviewer.org.</b></div><div class=\"sk-container\" hidden><div class=\"sk-item\"><div class=\"sk-estimator sk-toggleable\"><input class=\"sk-toggleable__control sk-hidden--visually\" id=\"sk-estimator-id-4\" type=\"checkbox\" checked><label for=\"sk-estimator-id-4\" class=\"sk-toggleable__label sk-toggleable__label-arrow\">GradientBoostingRegressor</label><div class=\"sk-toggleable__content\"><pre>GradientBoostingRegressor(random_state=42)</pre></div></div></div></div></div>"
            ]
          },
          "metadata": {},
          "execution_count": 20
        }
      ],
      "source": [
        "# Training using Gradient Boosting\n",
        "model_gb = GradientBoostingRegressor(n_estimators=100, random_state=42)\n",
        "model_gb.fit(train_data[features], train_data[target])\n"
      ]
    },
    {
      "cell_type": "code",
      "execution_count": 22,
      "id": "1136fa26-41a1-4d89-bd47-cde900f5c192",
      "metadata": {
        "id": "1136fa26-41a1-4d89-bd47-cde900f5c192"
      },
      "outputs": [],
      "source": [
        "# Evaluation\n",
        "def evaluate_model(model, test_features, test_target):\n",
        "    predictions = model.predict(test_features)\n",
        "    mse = mean_squared_error(test_target, predictions)\n",
        "    rmse = np.sqrt(mse)\n",
        "    mae = mean_absolute_error(test_target, predictions)\n",
        "    r2 = r2_score(test_target, predictions)\n",
        "    return mse, rmse, mae, r2\n"
      ]
    },
    {
      "cell_type": "code",
      "execution_count": 23,
      "id": "c6f6ec25-6dd4-47b0-b131-a1175d7c435d",
      "metadata": {
        "colab": {
          "base_uri": "https://localhost:8080/"
        },
        "id": "c6f6ec25-6dd4-47b0-b131-a1175d7c435d",
        "outputId": "99131ab1-0997-4e9c-8bb6-14afbd8b18c9"
      },
      "outputs": [
        {
          "output_type": "stream",
          "name": "stdout",
          "text": [
            "Linear Regression:\n",
            "MSE: 0.9708511305214448, RMSE: 0.9853177814905426, MAE: 0.8899674085199839, R-squared: -0.1762972868362258\n"
          ]
        }
      ],
      "source": [
        "# Evaluate Linear Regression model\n",
        "mse_lr, rmse_lr, mae_lr, r2_lr = evaluate_model(model_lr, test_data[features], test_data[target])\n",
        "print(\"Linear Regression:\")\n",
        "print(f\"MSE: {mse_lr}, RMSE: {rmse_lr}, MAE: {mae_lr}, R-squared: {r2_lr}\")"
      ]
    },
    {
      "cell_type": "code",
      "execution_count": 24,
      "id": "308cad5f-8b59-4df0-87b8-685d7f640a84",
      "metadata": {
        "colab": {
          "base_uri": "https://localhost:8080/"
        },
        "id": "308cad5f-8b59-4df0-87b8-685d7f640a84",
        "outputId": "35cdc329-a857-433e-f407-63e065f9a04d"
      },
      "outputs": [
        {
          "output_type": "stream",
          "name": "stdout",
          "text": [
            "Support Vector Machine (SVR):\n",
            "MSE: 0.997411710999376, RMSE: 0.9987050170092148, MAE: 0.8236452205413419, R-squared: -0.2084784707178422\n"
          ]
        }
      ],
      "source": [
        "# Evaluate SVR model\n",
        "mse_svr, rmse_svr, mae_svr, r2_svr = evaluate_model(model_svr, test_data[features], test_data[target])\n",
        "print(\"Support Vector Machine (SVR):\")\n",
        "print(f\"MSE: {mse_svr}, RMSE: {rmse_svr}, MAE: {mae_svr}, R-squared: {r2_svr}\")"
      ]
    },
    {
      "cell_type": "code",
      "execution_count": 25,
      "id": "c1742d18-7e22-4624-b8e7-d9d9dbbd4e9f",
      "metadata": {
        "colab": {
          "base_uri": "https://localhost:8080/"
        },
        "id": "c1742d18-7e22-4624-b8e7-d9d9dbbd4e9f",
        "outputId": "d9d39792-8d14-4c0e-c836-e32433c6be1f"
      },
      "outputs": [
        {
          "output_type": "stream",
          "name": "stdout",
          "text": [
            "Random Forest:\n",
            "MSE: 0.7063017148713326, RMSE: 0.8404175836281227, MAE: 0.6337503306070976, R-squared: 0.1442346156153851\n"
          ]
        }
      ],
      "source": [
        "\n",
        "# Evaluate Random Forest model\n",
        "mse_rf, rmse_rf, mae_rf, r2_rf = evaluate_model(model_rf, test_data[features], test_data[target])\n",
        "print(\"Random Forest:\")\n",
        "print(f\"MSE: {mse_rf}, RMSE: {rmse_rf}, MAE: {mae_rf}, R-squared: {r2_rf}\")"
      ]
    },
    {
      "cell_type": "code",
      "execution_count": 26,
      "id": "b68db147-6425-4732-841e-9515fd3e01c6",
      "metadata": {
        "colab": {
          "base_uri": "https://localhost:8080/"
        },
        "id": "b68db147-6425-4732-841e-9515fd3e01c6",
        "outputId": "e9e89136-efa7-4cad-9ab0-f27556a17e2c"
      },
      "outputs": [
        {
          "output_type": "stream",
          "name": "stdout",
          "text": [
            "Gradient Boosting:\n",
            "MSE: 0.8072384257318995, RMSE: 0.8984644821760621, MAE: 0.7650906714458685, R-squared: 0.021938235259226224\n"
          ]
        }
      ],
      "source": [
        "# Evaluate Gradient Boosting model\n",
        "mse_gb, rmse_gb, mae_gb, r2_gb = evaluate_model(model_gb, test_data[features], test_data[target])\n",
        "print(\"Gradient Boosting:\")\n",
        "print(f\"MSE: {mse_gb}, RMSE: {rmse_gb}, MAE: {mae_gb}, R-squared: {r2_gb}\")"
      ]
    },
    {
      "cell_type": "code",
      "execution_count": 36,
      "id": "c957dba7-dd25-487f-a2c1-f29b13e55150",
      "metadata": {
        "id": "c957dba7-dd25-487f-a2c1-f29b13e55150"
      },
      "outputs": [],
      "source": [
        "model_mse = {\n",
        "    'Linear Regression': mse_lr,\n",
        "    'SVR': mse_svr,\n",
        "    'Random Forest': mse_rf,\n",
        "    'Gradient Boosting': mse_gb,\n",
        "\n",
        "}\n"
      ]
    },
    {
      "cell_type": "code",
      "execution_count": 31,
      "id": "a4d5668d-506a-4487-9ec9-2678e7c962b9",
      "metadata": {
        "colab": {
          "base_uri": "https://localhost:8080/"
        },
        "id": "a4d5668d-506a-4487-9ec9-2678e7c962b9",
        "outputId": "862e6c8f-5b20-4b0c-d945-f8eaee21de3f"
      },
      "outputs": [
        {
          "output_type": "stream",
          "name": "stdout",
          "text": [
            "Predicted future open prices:\n",
            "[106.31302737]\n"
          ]
        }
      ],
      "source": [
        "# Assuming LSTM model is the best-performing model\n",
        "\n",
        "future_days = 1  # Replace with the desired number of future days\n",
        "\n",
        "last_short_ma = clean_stock_data['Short_MA'].iloc[-1]\n",
        "last_long_ma = clean_stock_data['Long_MA'].iloc[-1]\n",
        "last_rsi = clean_stock_data['RSI'].iloc[-1]\n",
        "last_trend = clean_stock_data['Next_Day_Trend'].iloc[-1]\n",
        "\n",
        "future_short_ma_values = []  # Store future Short_MA values\n",
        "future_long_ma_values = []  # Store future Long_MA values\n",
        "future_rsi_values = []  # Store future RSI values\n",
        "future_trend_values = []  # Store future Next_Day_Trend values\n",
        "\n",
        "for i in range(future_days):\n",
        "    # Example: Suppose you're predicting the next day's trend based on today's values\n",
        "    # Replace this with your own forecasting logic\n",
        "    future_short_ma_values.append(last_short_ma + 1)  # Placeholder logic\n",
        "    future_long_ma_values.append(last_long_ma + 1)  # Placeholder logic\n",
        "    future_rsi_values.append(last_rsi + 1)  # Placeholder logic\n",
        "    future_trend_values.append(last_trend + 1)  # Placeholder logic\n",
        "\n",
        "    # Update the last known values for the next iteration\n",
        "    last_short_ma = future_short_ma_values[-1]\n",
        "    last_long_ma = future_long_ma_values[-1]\n",
        "    last_rsi = future_rsi_values[-1]\n",
        "    last_trend = future_trend_values[-1]\n",
        "\n",
        "# Construct a DataFrame for future features\n",
        "future_features = pd.DataFrame({\n",
        "    'Short_MA': future_short_ma_values,\n",
        "    'Long_MA': future_long_ma_values,\n",
        "    'RSI': future_rsi_values,\n",
        "    'Next_Day_Trend': future_trend_values\n",
        "})\n",
        "\n",
        "# Predict open prices for the next 'n' days using the selected model (e.g., Linear Regression)\n",
        "predicted_open_prices = model_lr.predict(future_features)\n",
        "print(\"Predicted future open prices:\")\n",
        "print(predicted_open_prices)"
      ]
    },
    {
      "cell_type": "code",
      "execution_count": 32,
      "id": "a808658d-8a43-47a3-be0d-04089388dadd",
      "metadata": {
        "colab": {
          "base_uri": "https://localhost:8080/"
        },
        "id": "a808658d-8a43-47a3-be0d-04089388dadd",
        "outputId": "554ae565-e28f-4f2c-d9e1-d9e83263e3c0"
      },
      "outputs": [
        {
          "output_type": "execute_result",
          "data": {
            "text/plain": [
              "-0.1762972868362258"
            ]
          },
          "metadata": {},
          "execution_count": 32
        }
      ],
      "source": [
        "\n",
        "model_lr.score(test_data[features], test_data[target])"
      ]
    },
    {
      "cell_type": "code",
      "execution_count": 33,
      "id": "d5cfe8ef-3fb0-4e84-a46c-77796a37a8a8",
      "metadata": {
        "colab": {
          "base_uri": "https://localhost:8080/"
        },
        "id": "d5cfe8ef-3fb0-4e84-a46c-77796a37a8a8",
        "outputId": "22287542-62be-43cd-b3ca-f1fc67e7d9c8"
      },
      "outputs": [
        {
          "output_type": "execute_result",
          "data": {
            "text/plain": [
              "-0.2084784707178422"
            ]
          },
          "metadata": {},
          "execution_count": 33
        }
      ],
      "source": [
        "model_svr.score(test_data[features], test_data[target])"
      ]
    },
    {
      "cell_type": "code",
      "execution_count": 34,
      "id": "24693df0-336a-421c-867f-3ed0beaf8170",
      "metadata": {
        "colab": {
          "base_uri": "https://localhost:8080/"
        },
        "id": "24693df0-336a-421c-867f-3ed0beaf8170",
        "outputId": "b09b5fcb-5671-45fc-d810-f24c6079cbab"
      },
      "outputs": [
        {
          "output_type": "execute_result",
          "data": {
            "text/plain": [
              "0.1442346156153851"
            ]
          },
          "metadata": {},
          "execution_count": 34
        }
      ],
      "source": [
        "model_rf.score(test_data[features], test_data[target])"
      ]
    },
    {
      "cell_type": "code",
      "execution_count": 35,
      "id": "538d59a4-4b5c-4fea-986f-ebf7bba002e8",
      "metadata": {
        "colab": {
          "base_uri": "https://localhost:8080/"
        },
        "id": "538d59a4-4b5c-4fea-986f-ebf7bba002e8",
        "outputId": "a8393858-4b0e-4baa-d39d-a2859183314e"
      },
      "outputs": [
        {
          "output_type": "execute_result",
          "data": {
            "text/plain": [
              "0.021938235259226224"
            ]
          },
          "metadata": {},
          "execution_count": 35
        }
      ],
      "source": [
        "model_gb.score(test_data[features], test_data[target])"
      ]
    },
    {
      "cell_type": "code",
      "execution_count": null,
      "id": "9d2f27ac-0080-4719-a8c0-3d3fc431abe9",
      "metadata": {
        "id": "9d2f27ac-0080-4719-a8c0-3d3fc431abe9"
      },
      "outputs": [],
      "source": []
    }
  ],
  "metadata": {
    "kernelspec": {
      "display_name": "Python 3 (ipykernel)",
      "language": "python",
      "name": "python3"
    },
    "language_info": {
      "codemirror_mode": {
        "name": "ipython",
        "version": 3
      },
      "file_extension": ".py",
      "mimetype": "text/x-python",
      "name": "python",
      "nbconvert_exporter": "python",
      "pygments_lexer": "ipython3",
      "version": "3.8.0rc1"
    },
    "colab": {
      "provenance": [],
      "include_colab_link": true
    }
  },
  "nbformat": 4,
  "nbformat_minor": 5
}